{
 "metadata": {
  "name": "130111-arrays-workbook"
 },
 "nbformat": 3,
 "nbformat_minor": 0,
 "worksheets": [
  {
   "cells": [
    {
     "cell_type": "markdown",
     "metadata": {},
     "source": [
      "What can I do with a sequence?\n",
      "=====\n",
      "\n",
      "The most general sequence type is a list. Everything else is just exceptions to the rules."
     ]
    },
    {
     "cell_type": "code",
     "collapsed": false,
     "input": [],
     "language": "python",
     "metadata": {},
     "outputs": []
    },
    {
     "cell_type": "markdown",
     "metadata": {},
     "source": [
      "Length, iteration, and membership tests\n",
      "----\n",
      "\n",
      "`len()`, `for x in sequence:`, `if x in sequence:`"
     ]
    },
    {
     "cell_type": "code",
     "collapsed": false,
     "input": [],
     "language": "python",
     "metadata": {},
     "outputs": []
    },
    {
     "cell_type": "code",
     "collapsed": false,
     "input": [],
     "language": "python",
     "metadata": {},
     "outputs": []
    },
    {
     "cell_type": "code",
     "collapsed": false,
     "input": [],
     "language": "python",
     "metadata": {},
     "outputs": []
    },
    {
     "cell_type": "markdown",
     "metadata": {},
     "source": [
      "Indexing\n",
      "-----\n",
      "\n",
      "Lists are *ordered* and are *indexable* with numbers"
     ]
    },
    {
     "cell_type": "code",
     "collapsed": false,
     "input": [],
     "language": "python",
     "metadata": {},
     "outputs": []
    },
    {
     "cell_type": "markdown",
     "metadata": {},
     "source": [
      "**Slices** can be constructed using a colon. The convention for specifying slices can be hard to understand, so let's look at it a couple different ways."
     ]
    },
    {
     "cell_type": "code",
     "collapsed": false,
     "input": [],
     "language": "python",
     "metadata": {},
     "outputs": []
    },
    {
     "cell_type": "markdown",
     "metadata": {},
     "source": [
      "In slices, it's as if the index numbers point to the spaces *between* the list elements."
     ]
    },
    {
     "cell_type": "raw",
     "metadata": {},
     "source": [
      "lis = [  4,  5,  6,  7  ]\n",
      "       ^   ^   ^   ^   ^\n",
      "       0   1   2   3   4"
     ]
    },
    {
     "cell_type": "markdown",
     "metadata": {},
     "source": [
      "You try it!"
     ]
    },
    {
     "cell_type": "code",
     "collapsed": false,
     "input": [],
     "language": "python",
     "metadata": {},
     "outputs": []
    },
    {
     "cell_type": "markdown",
     "metadata": {},
     "source": [
      "Note: `lis[i:j]` returns exactly `j - i` elements.\n",
      "\n",
      "Also, the `range()` function interprets its arguments in the same way."
     ]
    },
    {
     "cell_type": "code",
     "collapsed": false,
     "input": [],
     "language": "python",
     "metadata": {},
     "outputs": []
    },
    {
     "cell_type": "markdown",
     "metadata": {},
     "source": [
      "Just like non-negative indexes count forward from the first element, **negative indexes** count backward from the *last* element."
     ]
    },
    {
     "cell_type": "code",
     "collapsed": false,
     "input": [],
     "language": "python",
     "metadata": {},
     "outputs": []
    },
    {
     "cell_type": "markdown",
     "metadata": {},
     "source": [
      "It also works for slices"
     ]
    },
    {
     "cell_type": "raw",
     "metadata": {},
     "source": [
      "lis = [  4,  5,  6,  7  ]\n",
      "       ^   ^   ^   ^   ^\n",
      "      -5  -4  -3  -2  -1"
     ]
    },
    {
     "cell_type": "code",
     "collapsed": false,
     "input": [],
     "language": "python",
     "metadata": {},
     "outputs": []
    },
    {
     "cell_type": "markdown",
     "metadata": {},
     "source": [
      "If a slice starts at 0 or ends at the end, you can omit the number"
     ]
    },
    {
     "cell_type": "code",
     "collapsed": false,
     "input": [],
     "language": "python",
     "metadata": {},
     "outputs": []
    },
    {
     "cell_type": "markdown",
     "metadata": {},
     "source": [
      "Finally, by adding a third number to the slice, we can specify a step size other than 1."
     ]
    },
    {
     "cell_type": "code",
     "collapsed": false,
     "input": [],
     "language": "python",
     "metadata": {},
     "outputs": []
    },
    {
     "cell_type": "markdown",
     "metadata": {},
     "source": [
      "A similar convention is  used for the `range()` function."
     ]
    },
    {
     "cell_type": "code",
     "collapsed": false,
     "input": [],
     "language": "python",
     "metadata": {},
     "outputs": []
    },
    {
     "cell_type": "markdown",
     "metadata": {},
     "source": [
      "Mutability\n",
      "-----\n",
      "\n",
      "You can add, remove, or replace items at will."
     ]
    },
    {
     "cell_type": "code",
     "collapsed": false,
     "input": [],
     "language": "python",
     "metadata": {},
     "outputs": []
    },
    {
     "cell_type": "code",
     "collapsed": false,
     "input": [],
     "language": "python",
     "metadata": {},
     "outputs": []
    },
    {
     "cell_type": "code",
     "collapsed": false,
     "input": [],
     "language": "python",
     "metadata": {},
     "outputs": []
    },
    {
     "cell_type": "markdown",
     "metadata": {},
     "source": [
      "Methods\n",
      "-----\n",
      "\n",
      "Like almost any Python object, lists have several **methods** for less common operations. You just saw one of them, `append()`. Here are 2 more:"
     ]
    },
    {
     "cell_type": "code",
     "collapsed": false,
     "input": [],
     "language": "python",
     "metadata": {},
     "outputs": []
    },
    {
     "cell_type": "code",
     "collapsed": false,
     "input": [],
     "language": "python",
     "metadata": {},
     "outputs": []
    },
    {
     "cell_type": "markdown",
     "metadata": {},
     "source": [
      "You can get a full list of \"public\" methods (ones you are encouraged to use) by typing \"`lis.`\" and hitting Tab."
     ]
    },
    {
     "cell_type": "code",
     "collapsed": false,
     "input": [],
     "language": "python",
     "metadata": {},
     "outputs": []
    },
    {
     "cell_type": "markdown",
     "metadata": {},
     "source": [
      "Operators\n",
      "-----\n",
      "\n",
      "Like many Python objects, some arithmetic operators work on lists, too."
     ]
    },
    {
     "cell_type": "code",
     "collapsed": false,
     "input": [
      "lis * 2"
     ],
     "language": "python",
     "metadata": {},
     "outputs": []
    },
    {
     "cell_type": "code",
     "collapsed": false,
     "input": [
      "lis + ['some', 'more', 'items']"
     ],
     "language": "python",
     "metadata": {},
     "outputs": []
    },
    {
     "cell_type": "markdown",
     "metadata": {},
     "source": [
      "The arithmetic operators illustrate a common theme in Python: recycling syntax. Python has many types of variables (also called *classes*), and you will probably define a few of your own as you write code. But as much as possible, they have consistent interfaces. When you want to \n",
      "\n",
      "- join two strings together (`+`)\n",
      "- take every other element in a numeric array (slicing)\n",
      "- find out how many items are in a dictionary (`len()`)\n",
      "\n",
      "you will use the conventions you already know. If it makes sense, it will probably work!\n",
      "\n",
      "**Exercise:** join some strings together. Compute their lengths. Take slices."
     ]
    },
    {
     "cell_type": "code",
     "collapsed": false,
     "input": [],
     "language": "python",
     "metadata": {},
     "outputs": []
    },
    {
     "cell_type": "markdown",
     "metadata": {},
     "source": [
      "Other sequence types, briefly\n",
      "=====\n",
      "\n",
      "**Tuples** are not mutable."
     ]
    },
    {
     "cell_type": "code",
     "collapsed": false,
     "input": [
      "tup = (3, 4, 5)\n",
      "tup[0]"
     ],
     "language": "python",
     "metadata": {},
     "outputs": []
    },
    {
     "cell_type": "code",
     "collapsed": false,
     "input": [
      "tup[0] = 10"
     ],
     "language": "python",
     "metadata": {},
     "outputs": []
    },
    {
     "cell_type": "markdown",
     "metadata": {},
     "source": [
      "**Strings** are not mutable, and they can only contain characters.\n",
      "\n",
      "Because they are immutable, tuples and strings can serve as keys of a **dictionary**, a very powerful data structure that will take you 3 minutes to learn in [that part of the tutorial](http://docs.python.org/2/tutorial/datastructures.html#dictionaries)."
     ]
    },
    {
     "cell_type": "markdown",
     "metadata": {},
     "source": [
      "Type *objects* (\"classes\")\n",
      "----\n",
      "\n",
      "Types are objects too! The `type()` function returns the class of something."
     ]
    },
    {
     "cell_type": "code",
     "collapsed": false,
     "input": [
      "type(7)"
     ],
     "language": "python",
     "metadata": {},
     "outputs": []
    },
    {
     "cell_type": "code",
     "collapsed": false,
     "input": [
      "type(int)"
     ],
     "language": "python",
     "metadata": {},
     "outputs": []
    },
    {
     "cell_type": "code",
     "collapsed": false,
     "input": [
      "type(plot)"
     ],
     "language": "python",
     "metadata": {},
     "outputs": []
    },
    {
     "cell_type": "markdown",
     "metadata": {},
     "source": [
      "Wherever it makes sense, you can use a type to convert a quantity to that type. Examples:"
     ]
    },
    {
     "cell_type": "code",
     "collapsed": false,
     "input": [
      "list('Hello') # Convert string sequence to list sequence"
     ],
     "language": "python",
     "metadata": {},
     "outputs": []
    },
    {
     "cell_type": "code",
     "collapsed": false,
     "input": [
      "float(5) # Integer to floating-point"
     ],
     "language": "python",
     "metadata": {},
     "outputs": []
    },
    {
     "cell_type": "code",
     "collapsed": false,
     "input": [
      "str(pi) # Floating-point to string"
     ],
     "language": "python",
     "metadata": {},
     "outputs": []
    },
    {
     "cell_type": "markdown",
     "metadata": {},
     "source": [
      "There's much, much more to learn about data structures in the [relevant section of the Python Tutorial](http://docs.python.org/2/tutorial/datastructures.html)"
     ]
    },
    {
     "cell_type": "markdown",
     "metadata": {},
     "source": [
      "NumPy arrays\n",
      "====\n",
      "\n",
      "Arrays exist purely in the interest of speed. There's virtually nothing you can do with them that you can't also do with a list, some extra lines of Python code, and a lot of patience. However, each type the Python interpreter executes a line of code, there's a lot of overhead involved. For example, I could write"
     ]
    },
    {
     "cell_type": "code",
     "collapsed": false,
     "input": [
      "def cos_of_list(data):\n",
      "    \"\"\"Compute the cosine of each element in the list. Return another list.\"\"\"\n",
      "    return_list = []\n",
      "    for x in data:\n",
      "        return_list.append(cos(x))\n",
      "    return return_list\n",
      "\n",
      "angles = range(100) # Integers 0 to 99\n",
      "cosines = cos_of_list(angles)"
     ],
     "language": "python",
     "metadata": {},
     "outputs": []
    },
    {
     "cell_type": "markdown",
     "metadata": {},
     "source": [
      "We can measure its speed with `%%timeit`, which is available in the IPython Notebook as a \"cell magic.\""
     ]
    },
    {
     "cell_type": "code",
     "collapsed": false,
     "input": [
      "%%timeit\n",
      "angles = range(100)\n",
      "cosines = cos_of_list(angles)"
     ],
     "language": "python",
     "metadata": {},
     "outputs": []
    },
    {
     "cell_type": "markdown",
     "metadata": {},
     "source": [
      "How fast is the equivalent operation with numpy arrays?\n",
      "\n",
      "Here, instead of a `for` loop, a single line of Python code operates on the whole array at once."
     ]
    },
    {
     "cell_type": "code",
     "collapsed": false,
     "input": [
      "%%timeit\n",
      "angles = arange(100) # Like range(), but returns a NumPy array\n",
      "cosines = cos(angles)"
     ],
     "language": "python",
     "metadata": {},
     "outputs": []
    },
    {
     "cell_type": "markdown",
     "metadata": {},
     "source": [
      "Thus the entire scientific-computing infrastructure of Python is built on NumPy arrays, and not Python lists, dictionaries, etc.\n",
      "\n",
      "Creating arrays\n",
      "-----\n",
      "\n",
      "Because changing the size of an array (e.g. appending) is very inefficient, you should try to create them in advance, with their final dimensions. Besides `arange()`, `ones()`, `zeros()`, and `linspace()` are the array-creation functions you will use the most.\n",
      "\n",
      "There's no \"native\" syntax for an array literal. Instead you have to build it from some other type of sequence, e.g."
     ]
    },
    {
     "cell_type": "code",
     "collapsed": false,
     "input": [],
     "language": "python",
     "metadata": {},
     "outputs": []
    },
    {
     "cell_type": "markdown",
     "metadata": {},
     "source": [
      "Arrays support `len()`, but unlike lists, etc. they can be multi-dimensional! For that, you will need the `shape` attribute:"
     ]
    },
    {
     "cell_type": "code",
     "collapsed": false,
     "input": [],
     "language": "python",
     "metadata": {},
     "outputs": []
    },
    {
     "cell_type": "code",
     "collapsed": false,
     "input": [],
     "language": "python",
     "metadata": {},
     "outputs": []
    },
    {
     "cell_type": "code",
     "collapsed": false,
     "input": [
      "arr_2d = ones((5, 6))\n",
      "print arr_2d\n",
      "print arr_2d.shape"
     ],
     "language": "python",
     "metadata": {},
     "outputs": []
    },
    {
     "cell_type": "markdown",
     "metadata": {},
     "source": [
      "To index an N-dimensional array, just separate the indices or slice specifications with commas."
     ]
    },
    {
     "cell_type": "code",
     "collapsed": false,
     "input": [
      "rand2d = rand(5, 4)\n",
      "print rand2d"
     ],
     "language": "python",
     "metadata": {},
     "outputs": []
    },
    {
     "cell_type": "code",
     "collapsed": false,
     "input": [
      " # All rows, 3rd column"
     ],
     "language": "python",
     "metadata": {},
     "outputs": []
    },
    {
     "cell_type": "markdown",
     "metadata": {},
     "source": [
      "For more, check out the [NumPy tutorial](http://www.scipy.org/Tentative_NumPy_Tutorial).\n",
      "\n",
      "*One final note:* NumPy is loaded into the IPython Notebook environment automatically (along with some other scientific and plotting commands), but if you're writing code in a `.py` file, you need to put the line\n",
      "\n",
      "`from pylab import *`\n",
      "\n",
      "somewhere near the top."
     ]
    },
    {
     "cell_type": "markdown",
     "metadata": {},
     "source": [
      "An example\n",
      "----\n",
      "\n",
      "Let's do a real example: calculating digits of $\\pi$. We'll use the Gregory-Leibniz series:\n",
      "\n",
      "$$\\pi = \\frac{4}{1} - \\frac{4}{3} + \\frac{4}{5} - \\frac{4}{7} + \\frac{4}{9} - \\dots$$\n",
      "\n",
      "We can see that it's equivalent to\n",
      "\n",
      "$$\\pi = 4 \\sum_{i=1, 3, 5, \\dots} i^{-1} (-1)^\\frac{i - 1}{2}$$\n",
      "\n",
      "First, let's get the range of $i$ right. Before writing this kind of code, I always like to check that I know what I'm getting."
     ]
    },
    {
     "cell_type": "code",
     "collapsed": false,
     "input": [],
     "language": "python",
     "metadata": {},
     "outputs": []
    },
    {
     "cell_type": "markdown",
     "metadata": {},
     "source": [
      "Good. Now let's evaluate the expansion."
     ]
    },
    {
     "cell_type": "code",
     "collapsed": false,
     "input": [
      "def pi_approx(nterms):\n",
      "    i = arange(1, nterms*2, 2)\n",
      "    return 4 * sum(i**-1 * (-1)**((i - 1) / 2))"
     ],
     "language": "python",
     "metadata": {},
     "outputs": []
    },
    {
     "cell_type": "code",
     "collapsed": false,
     "input": [],
     "language": "python",
     "metadata": {},
     "outputs": []
    },
    {
     "cell_type": "markdown",
     "metadata": {},
     "source": [
      "You've hit the worst Python quirk of them all --- the quotient of integers is always an integer! This is a carryover from C. For example:"
     ]
    },
    {
     "cell_type": "code",
     "collapsed": false,
     "input": [],
     "language": "python",
     "metadata": {},
     "outputs": []
    },
    {
     "cell_type": "markdown",
     "metadata": {},
     "source": [
      "The solution is to give Python a hint that you're working with floating-point numbers."
     ]
    },
    {
     "cell_type": "code",
     "collapsed": false,
     "input": [],
     "language": "python",
     "metadata": {},
     "outputs": []
    },
    {
     "cell_type": "code",
     "collapsed": false,
     "input": [],
     "language": "python",
     "metadata": {},
     "outputs": []
    },
    {
     "cell_type": "markdown",
     "metadata": {},
     "source": [
      "Alternately, before performing any division, we could have run\n",
      "\n",
      "`from __future__ import division`\n",
      "\n",
      "reflecting the fact that this \"quirk\" is fixed in Python 3, but we have to live with it in order to use all the wonderful scientific software available for Python 2.7."
     ]
    },
    {
     "cell_type": "markdown",
     "metadata": {},
     "source": [
      "How fast does this method converge?"
     ]
    },
    {
     "cell_type": "code",
     "collapsed": false,
     "input": [
      "\n",
      "\n",
      "xlabel('Number of terms in expansion')\n",
      "ylabel('Error')\n",
      "loglog()\n",
      "grid(True)"
     ],
     "language": "python",
     "metadata": {},
     "outputs": []
    },
    {
     "cell_type": "markdown",
     "metadata": {},
     "source": [
      "One more demonstration of NumPy's prowess:"
     ]
    },
    {
     "cell_type": "code",
     "collapsed": false,
     "input": [
      "%%timeit\n",
      "pi_app = pi_approx(1e7)"
     ],
     "language": "python",
     "metadata": {},
     "outputs": []
    },
    {
     "cell_type": "code",
     "collapsed": false,
     "input": [
      "pi - pi_approx(1e7)"
     ],
     "language": "python",
     "metadata": {},
     "outputs": []
    },
    {
     "cell_type": "markdown",
     "metadata": {},
     "source": [
      "...as this expansion is notoriously inefficient."
     ]
    },
    {
     "cell_type": "code",
     "collapsed": false,
     "input": [],
     "language": "python",
     "metadata": {},
     "outputs": []
    }
   ],
   "metadata": {}
  }
 ]
}