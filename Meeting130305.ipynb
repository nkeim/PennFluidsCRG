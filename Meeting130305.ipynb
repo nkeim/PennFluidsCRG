{
 "metadata": {
  "name": "Meeting130305"
 },
 "nbformat": 3,
 "nbformat_minor": 0,
 "worksheets": [
  {
   "cells": [
    {
     "cell_type": "markdown",
     "metadata": {},
     "source": [
      "Go to the data\n",
      "-----"
     ]
    },
    {
     "cell_type": "code",
     "collapsed": false,
     "input": [
      "# Go to home directory\n",
      "%cd"
     ],
     "language": "python",
     "metadata": {},
     "outputs": [
      {
       "output_type": "stream",
       "stream": "stdout",
       "text": [
        "/Users/nkeim\n"
       ]
      }
     ],
     "prompt_number": 17
    },
    {
     "cell_type": "code",
     "collapsed": false,
     "input": [
      "%cd python-march5/"
     ],
     "language": "python",
     "metadata": {},
     "outputs": [
      {
       "output_type": "stream",
       "stream": "stdout",
       "text": [
        "/Users/nkeim/python-march5\n"
       ]
      }
     ],
     "prompt_number": 18
    },
    {
     "cell_type": "code",
     "collapsed": false,
     "input": [
      "ls data"
     ],
     "language": "python",
     "metadata": {},
     "outputs": [
      {
       "output_type": "stream",
       "stream": "stdout",
       "text": [
        "\u001b[31mdemotracks-unlabeled.txt\u001b[m\u001b[m* \u001b[31mdemotracks.h5\u001b[m\u001b[m*            \u001b[31mdemotracks.txt\u001b[m\u001b[m*\r\n"
       ]
      }
     ],
     "prompt_number": 20
    },
    {
     "cell_type": "heading",
     "level": 2,
     "metadata": {},
     "source": [
      "Read tracks"
     ]
    },
    {
     "cell_type": "code",
     "collapsed": false,
     "input": [
      "import pandas"
     ],
     "language": "python",
     "metadata": {},
     "outputs": [],
     "prompt_number": 21
    },
    {
     "cell_type": "code",
     "collapsed": false,
     "input": [
      "pandas.read_csv?"
     ],
     "language": "python",
     "metadata": {},
     "outputs": [],
     "prompt_number": 23
    },
    {
     "cell_type": "code",
     "collapsed": false,
     "input": [
      "tracks = pandas.read_csv('data/demotracks-unlabeled.txt', sep=' ', \n",
      "    names=['x', 'y', 'intensity', 'rg2', 'ecc', 'frame', 'particle'])"
     ],
     "language": "python",
     "metadata": {},
     "outputs": [],
     "prompt_number": 26
    },
    {
     "cell_type": "code",
     "collapsed": false,
     "input": [
      "tracks"
     ],
     "language": "python",
     "metadata": {},
     "outputs": [
      {
       "output_type": "pyout",
       "prompt_number": 43,
       "text": [
        "<class 'pandas.core.frame.DataFrame'>\n",
        "Int64Index: 9805 entries, 0 to 9804\n",
        "Data columns:\n",
        "x            9805  non-null values\n",
        "y            9805  non-null values\n",
        "intensity    9805  non-null values\n",
        "rg2          9805  non-null values\n",
        "ecc          9805  non-null values\n",
        "frame        9805  non-null values\n",
        "particle     9805  non-null values\n",
        "dtypes: float64(7)"
       ]
      }
     ],
     "prompt_number": 43
    },
    {
     "cell_type": "markdown",
     "metadata": {},
     "source": [
      "Now, let's take what we learned and make it a function."
     ]
    },
    {
     "cell_type": "code",
     "collapsed": false,
     "input": [
      "def read_tracks(filename):\n",
      "    \"\"\"Read tracks data from a text file, in Nathan's format.\n",
      "\n",
      "    Returns a pandas DataFrame.\"\"\"\n",
      "    tracks = pandas.read_csv(filename, sep=' ', \n",
      "        names=['x', 'y', 'intensity', 'rg2', 'ecc', 'frame', 'particle'])\n",
      "    return tracks"
     ],
     "language": "python",
     "metadata": {},
     "outputs": [],
     "prompt_number": 50
    },
    {
     "cell_type": "code",
     "collapsed": false,
     "input": [
      "tracks = read_tracks('data/demotracks-unlabeled.txt')"
     ],
     "language": "python",
     "metadata": {},
     "outputs": [],
     "prompt_number": 45
    },
    {
     "cell_type": "markdown",
     "metadata": {},
     "source": [
      "Inspecting the data\n",
      "===="
     ]
    },
    {
     "cell_type": "code",
     "collapsed": false,
     "input": [
      "tracks"
     ],
     "language": "python",
     "metadata": {},
     "outputs": [
      {
       "output_type": "pyout",
       "prompt_number": 46,
       "text": [
        "<class 'pandas.core.frame.DataFrame'>\n",
        "Int64Index: 9805 entries, 0 to 9804\n",
        "Data columns:\n",
        "x            9805  non-null values\n",
        "y            9805  non-null values\n",
        "intensity    9805  non-null values\n",
        "rg2          9805  non-null values\n",
        "ecc          9805  non-null values\n",
        "frame        9805  non-null values\n",
        "particle     9805  non-null values\n",
        "dtypes: float64(7)"
       ]
      }
     ],
     "prompt_number": 46
    },
    {
     "cell_type": "code",
     "collapsed": false,
     "input": [
      "tracks.head()"
     ],
     "language": "python",
     "metadata": {},
     "outputs": [
      {
       "html": [
        "<div style=\"max-height:1000px;max-width:1500px;overflow:auto;\">\n",
        "<table border=\"1\" class=\"dataframe\">\n",
        "  <thead>\n",
        "    <tr style=\"text-align: right;\">\n",
        "      <th></th>\n",
        "      <th>x</th>\n",
        "      <th>y</th>\n",
        "      <th>intensity</th>\n",
        "      <th>rg2</th>\n",
        "      <th>ecc</th>\n",
        "      <th>frame</th>\n",
        "      <th>particle</th>\n",
        "    </tr>\n",
        "  </thead>\n",
        "  <tbody>\n",
        "    <tr>\n",
        "      <td><strong>0</strong></td>\n",
        "      <td> 33.270397</td>\n",
        "      <td> 1053.769409</td>\n",
        "      <td> 1006.842712</td>\n",
        "      <td> 4.586629</td>\n",
        "      <td> 0.462595</td>\n",
        "      <td> 10</td>\n",
        "      <td> 1005</td>\n",
        "    </tr>\n",
        "    <tr>\n",
        "      <td><strong>1</strong></td>\n",
        "      <td> 35.433353</td>\n",
        "      <td>   37.886341</td>\n",
        "      <td>  549.989990</td>\n",
        "      <td> 3.040004</td>\n",
        "      <td> 0.405161</td>\n",
        "      <td> 10</td>\n",
        "      <td> 1006</td>\n",
        "    </tr>\n",
        "    <tr>\n",
        "      <td><strong>2</strong></td>\n",
        "      <td> 35.433666</td>\n",
        "      <td>  604.336304</td>\n",
        "      <td> 1476.623901</td>\n",
        "      <td> 3.943704</td>\n",
        "      <td> 0.191046</td>\n",
        "      <td> 10</td>\n",
        "      <td> 1022</td>\n",
        "    </tr>\n",
        "    <tr>\n",
        "      <td><strong>3</strong></td>\n",
        "      <td> 35.388435</td>\n",
        "      <td>  741.836609</td>\n",
        "      <td> 1178.180908</td>\n",
        "      <td> 4.189555</td>\n",
        "      <td> 0.181648</td>\n",
        "      <td> 10</td>\n",
        "      <td> 1029</td>\n",
        "    </tr>\n",
        "    <tr>\n",
        "      <td><strong>4</strong></td>\n",
        "      <td> 34.927330</td>\n",
        "      <td>  764.876099</td>\n",
        "      <td>  512.635254</td>\n",
        "      <td> 2.027802</td>\n",
        "      <td> 0.269469</td>\n",
        "      <td> 10</td>\n",
        "      <td> 1031</td>\n",
        "    </tr>\n",
        "  </tbody>\n",
        "</table>\n",
        "</div>"
       ],
       "output_type": "pyout",
       "prompt_number": 47,
       "text": [
        "           x            y    intensity       rg2       ecc  frame  particle\n",
        "0  33.270397  1053.769409  1006.842712  4.586629  0.462595     10      1005\n",
        "1  35.433353    37.886341   549.989990  3.040004  0.405161     10      1006\n",
        "2  35.433666   604.336304  1476.623901  3.943704  0.191046     10      1022\n",
        "3  35.388435   741.836609  1178.180908  4.189555  0.181648     10      1029\n",
        "4  34.927330   764.876099   512.635254  2.027802  0.269469     10      1031"
       ]
      }
     ],
     "prompt_number": 47
    },
    {
     "cell_type": "code",
     "collapsed": false,
     "input": [
      "tracks.ecc"
     ],
     "language": "python",
     "metadata": {},
     "outputs": [
      {
       "output_type": "pyout",
       "prompt_number": 48,
       "text": [
        "0     0.462595\n",
        "1     0.405161\n",
        "2     0.191046\n",
        "3     0.181648\n",
        "4     0.269469\n",
        "5     0.125533\n",
        "6     0.169351\n",
        "7     0.340494\n",
        "8     0.276853\n",
        "9     0.543773\n",
        "10    0.466996\n",
        "11    0.378404\n",
        "12    0.291527\n",
        "13    0.194248\n",
        "14    0.149431\n",
        "...\n",
        "9790    0.173275\n",
        "9791    0.184052\n",
        "9792    0.410746\n",
        "9793    0.156014\n",
        "9794    0.344957\n",
        "9795    0.411464\n",
        "9796    0.349281\n",
        "9797    0.225380\n",
        "9798    0.326159\n",
        "9799    0.388325\n",
        "9800    0.194243\n",
        "9801    0.373832\n",
        "9802    0.183426\n",
        "9803    0.130675\n",
        "9804    0.421243\n",
        "Name: ecc, Length: 9805"
       ]
      }
     ],
     "prompt_number": 48
    },
    {
     "cell_type": "code",
     "collapsed": false,
     "input": [
      "tracks.ecc.hist()"
     ],
     "language": "python",
     "metadata": {},
     "outputs": [
      {
       "output_type": "pyout",
       "prompt_number": 51,
       "text": [
        "<matplotlib.axes.AxesSubplot at 0x10cba5090>"
       ]
      },
      {
       "output_type": "display_data",
       "png": "[encoded data removed]"
      }
     ],
     "prompt_number": 51
    },
    {
     "cell_type": "code",
     "collapsed": false,
     "input": [
      "plot(tracks.x, tracks.y, '.')"
     ],
     "language": "python",
     "metadata": {},
     "outputs": [
      {
       "output_type": "pyout",
       "prompt_number": 52,
       "text": [
        "[<matplotlib.lines.Line2D at 0x10cdaa590>]"
       ]
      },
      {
       "output_type": "display_data",
       "png": "[encoded data removed]"
      }
     ],
     "prompt_number": 52
    },
    {
     "cell_type": "markdown",
     "metadata": {},
     "source": [
      "Grouping\n",
      "----\n",
      "\n",
      "Let's just try this without explanation"
     ]
    },
    {
     "cell_type": "code",
     "collapsed": false,
     "input": [
      "for pid, pdata in tracks.groupby('particle'):\n",
      "    pass"
     ],
     "language": "python",
     "metadata": {},
     "outputs": [],
     "prompt_number": 60
    },
    {
     "cell_type": "code",
     "collapsed": false,
     "input": [
      "pid"
     ],
     "language": "python",
     "metadata": {},
     "outputs": [
      {
       "output_type": "pyout",
       "prompt_number": 56,
       "text": [
        "1999.0"
       ]
      }
     ],
     "prompt_number": 56
    },
    {
     "cell_type": "code",
     "collapsed": false,
     "input": [
      "pdata"
     ],
     "language": "python",
     "metadata": {},
     "outputs": [
      {
       "html": [
        "<div style=\"max-height:1000px;max-width:1500px;overflow:auto;\">\n",
        "<table border=\"1\" class=\"dataframe\">\n",
        "  <thead>\n",
        "    <tr style=\"text-align: right;\">\n",
        "      <th></th>\n",
        "      <th>x</th>\n",
        "      <th>y</th>\n",
        "      <th>intensity</th>\n",
        "      <th>rg2</th>\n",
        "      <th>ecc</th>\n",
        "      <th>frame</th>\n",
        "      <th>particle</th>\n",
        "    </tr>\n",
        "  </thead>\n",
        "  <tbody>\n",
        "    <tr>\n",
        "      <td><strong>987 </strong></td>\n",
        "      <td> 70.130310</td>\n",
        "      <td> 987.779480</td>\n",
        "      <td> 499.518616</td>\n",
        "      <td> 3.082538</td>\n",
        "      <td> 0.377840</td>\n",
        "      <td> 10</td>\n",
        "      <td> 1999</td>\n",
        "    </tr>\n",
        "    <tr>\n",
        "      <td><strong>1975</strong></td>\n",
        "      <td> 70.437408</td>\n",
        "      <td> 987.860657</td>\n",
        "      <td> 514.346802</td>\n",
        "      <td> 3.283182</td>\n",
        "      <td> 0.428181</td>\n",
        "      <td> 11</td>\n",
        "      <td> 1999</td>\n",
        "    </tr>\n",
        "    <tr>\n",
        "      <td><strong>2958</strong></td>\n",
        "      <td> 71.199631</td>\n",
        "      <td> 987.899963</td>\n",
        "      <td> 532.049316</td>\n",
        "      <td> 3.388305</td>\n",
        "      <td> 0.456802</td>\n",
        "      <td> 12</td>\n",
        "      <td> 1999</td>\n",
        "    </tr>\n",
        "    <tr>\n",
        "      <td><strong>3941</strong></td>\n",
        "      <td> 71.549286</td>\n",
        "      <td> 987.848389</td>\n",
        "      <td> 516.270142</td>\n",
        "      <td> 3.233893</td>\n",
        "      <td> 0.415315</td>\n",
        "      <td> 13</td>\n",
        "      <td> 1999</td>\n",
        "    </tr>\n",
        "    <tr>\n",
        "      <td><strong>4921</strong></td>\n",
        "      <td> 72.116318</td>\n",
        "      <td> 988.008667</td>\n",
        "      <td> 554.241882</td>\n",
        "      <td> 3.289729</td>\n",
        "      <td> 0.475604</td>\n",
        "      <td> 14</td>\n",
        "      <td> 1999</td>\n",
        "    </tr>\n",
        "    <tr>\n",
        "      <td><strong>5898</strong></td>\n",
        "      <td> 72.515587</td>\n",
        "      <td> 987.915405</td>\n",
        "      <td> 536.607727</td>\n",
        "      <td> 3.307484</td>\n",
        "      <td> 0.446399</td>\n",
        "      <td> 15</td>\n",
        "      <td> 1999</td>\n",
        "    </tr>\n",
        "    <tr>\n",
        "      <td><strong>6875</strong></td>\n",
        "      <td> 73.092163</td>\n",
        "      <td> 987.946899</td>\n",
        "      <td> 529.235657</td>\n",
        "      <td> 3.262610</td>\n",
        "      <td> 0.449041</td>\n",
        "      <td> 16</td>\n",
        "      <td> 1999</td>\n",
        "    </tr>\n",
        "    <tr>\n",
        "      <td><strong>7852</strong></td>\n",
        "      <td> 73.456841</td>\n",
        "      <td> 987.915710</td>\n",
        "      <td> 517.165100</td>\n",
        "      <td> 3.146560</td>\n",
        "      <td> 0.424137</td>\n",
        "      <td> 17</td>\n",
        "      <td> 1999</td>\n",
        "    </tr>\n",
        "    <tr>\n",
        "      <td><strong>8829</strong></td>\n",
        "      <td> 74.093857</td>\n",
        "      <td> 987.929016</td>\n",
        "      <td> 529.109436</td>\n",
        "      <td> 3.293552</td>\n",
        "      <td> 0.450121</td>\n",
        "      <td> 18</td>\n",
        "      <td> 1999</td>\n",
        "    </tr>\n",
        "    <tr>\n",
        "      <td><strong>9804</strong></td>\n",
        "      <td> 74.466942</td>\n",
        "      <td> 987.770691</td>\n",
        "      <td> 501.278290</td>\n",
        "      <td> 3.342848</td>\n",
        "      <td> 0.421243</td>\n",
        "      <td> 19</td>\n",
        "      <td> 1999</td>\n",
        "    </tr>\n",
        "  </tbody>\n",
        "</table>\n",
        "</div>"
       ],
       "output_type": "pyout",
       "prompt_number": 57,
       "text": [
        "              x           y   intensity       rg2       ecc  frame  particle\n",
        "987   70.130310  987.779480  499.518616  3.082538  0.377840     10      1999\n",
        "1975  70.437408  987.860657  514.346802  3.283182  0.428181     11      1999\n",
        "2958  71.199631  987.899963  532.049316  3.388305  0.456802     12      1999\n",
        "3941  71.549286  987.848389  516.270142  3.233893  0.415315     13      1999\n",
        "4921  72.116318  988.008667  554.241882  3.289729  0.475604     14      1999\n",
        "5898  72.515587  987.915405  536.607727  3.307484  0.446399     15      1999\n",
        "6875  73.092163  987.946899  529.235657  3.262610  0.449041     16      1999\n",
        "7852  73.456841  987.915710  517.165100  3.146560  0.424137     17      1999\n",
        "8829  74.093857  987.929016  529.109436  3.293552  0.450121     18      1999\n",
        "9804  74.466942  987.770691  501.278290  3.342848  0.421243     19      1999"
       ]
      }
     ],
     "prompt_number": 57
    },
    {
     "cell_type": "markdown",
     "metadata": {},
     "source": [
      "Can anyone guess what this will do?"
     ]
    },
    {
     "cell_type": "code",
     "collapsed": false,
     "input": [
      "for pid, pdata in tracks.groupby('particle'):\n",
      "    plot(pdata.x, pdata.y, '.')"
     ],
     "language": "python",
     "metadata": {},
     "outputs": [
      {
       "output_type": "display_data",
       "png": "[encoded data removed]"
      }
     ],
     "prompt_number": 59
    },
    {
     "cell_type": "markdown",
     "metadata": {},
     "source": [
      "Alignment and the MSD algorithm\n",
      "----\n",
      "\n",
      "$$\\mathtt{msd(\\Delta t)} = \\biggl< (\\vec r_i(t + \\Delta t) - \\vec r_i(t))^2 {\\biggr >}_{i, t}$$\n",
      "\n",
      "We're going to do it in 1D ($x$ only).\n",
      "\n",
      "**Performance benchmark**"
     ]
    },
    {
     "cell_type": "code",
     "collapsed": false,
     "input": [
      "%%timeit\n",
      "frames = tracks.frame.unique()\n",
      "msd_dt = []\n",
      "msd_msd = []\n",
      "for dt in range(1, 10):\n",
      "    nsamples = 0\n",
      "    sdsum = 0\n",
      "    for t in frames[0:len(frames) - dt]:\n",
      "        tracks0 = tracks[tracks.frame == t].set_index('particle')\n",
      "        tracks1 = tracks[tracks.frame == t + dt].set_index('particle')\n",
      "        for pid in tracks0.index:\n",
      "            if pid in tracks1.index:\n",
      "                nsamples += 1\n",
      "                sdsum += (tracks1.x[pid] - tracks0.x[pid])**2\n",
      "    msd_dt.append(dt)\n",
      "    msd_msd.append(sdsum / nsamples)"
     ],
     "language": "python",
     "metadata": {},
     "outputs": [
      {
       "output_type": "stream",
       "stream": "stdout",
       "text": [
        "1 loops, best of 3: 1.04 s per loop\n"
       ]
      }
     ],
     "prompt_number": 97
    },
    {
     "cell_type": "code",
     "collapsed": false,
     "input": [
      "plot(msd_dt, msd_msd, 'o-')\n",
      "loglog();"
     ],
     "language": "python",
     "metadata": {},
     "outputs": [
      {
       "output_type": "display_data",
       "png": "[encoded data removed]"
      }
     ],
     "prompt_number": 96
    },
    {
     "cell_type": "markdown",
     "metadata": {},
     "source": [
      "Faster!"
     ]
    },
    {
     "cell_type": "code",
     "collapsed": false,
     "input": [
      "frames = tracks.frame.unique()\n",
      "msd_dt = []\n",
      "msd_msd = []\n",
      "for dt in range(1, 10):\n",
      "    nsamples = 0\n",
      "    sdsum = 0\n",
      "    for t in frames[0:len(frames) - dt]:\n",
      "        tracks0 = tracks[tracks.frame == t].set_index('particle')\n",
      "        tracks1 = tracks[tracks.frame == t + dt].set_index('particle')\n"
     ],
     "language": "python",
     "metadata": {},
     "outputs": [],
     "prompt_number": 72
    },
    {
     "cell_type": "code",
     "collapsed": false,
     "input": [
      "tracks0"
     ],
     "language": "python",
     "metadata": {},
     "outputs": [
      {
       "output_type": "pyout",
       "prompt_number": 73,
       "text": [
        "<class 'pandas.core.frame.DataFrame'>\n",
        "Index: 988 entries, 1005.0 to 1999.0\n",
        "Data columns:\n",
        "x            988  non-null values\n",
        "y            988  non-null values\n",
        "intensity    988  non-null values\n",
        "rg2          988  non-null values\n",
        "ecc          988  non-null values\n",
        "frame        988  non-null values\n",
        "dtypes: float64(6)"
       ]
      }
     ],
     "prompt_number": 73
    },
    {
     "cell_type": "markdown",
     "metadata": {},
     "source": [
      "\"non-null values\"\n",
      "\n",
      "Let's try something...\n",
      "\n",
      "...and what's that `NaN`?"
     ]
    },
    {
     "cell_type": "code",
     "collapsed": false,
     "input": [
      "tracks1.x - tracks0.x"
     ],
     "language": "python",
     "metadata": {},
     "outputs": [
      {
       "output_type": "pyout",
       "prompt_number": 74,
       "text": [
        "particle\n",
        "1000        4.200264\n",
        "1001        4.139130\n",
        "1002             NaN\n",
        "1003        4.416439\n",
        "1004        4.690804\n",
        "1005        4.840473\n",
        "1006        0.428593\n",
        "1007        0.188572\n",
        "1008        0.376064\n",
        "1009        0.339508\n",
        "1010        0.401295\n",
        "1011        0.490200\n",
        "1012        0.327820\n",
        "1013        0.661701\n",
        "1014        0.885834\n",
        "...\n",
        "1985        0.730347\n",
        "1986        0.807320\n",
        "1987        0.856102\n",
        "1988        1.693123\n",
        "1989        1.707314\n",
        "1990        1.804489\n",
        "1991        1.830193\n",
        "1992        1.952911\n",
        "1993        2.409294\n",
        "1994        2.475525\n",
        "1995        2.559380\n",
        "1996        2.840157\n",
        "1997        3.000153\n",
        "1998        3.658020\n",
        "1999        4.336632\n",
        "Name: x, Length: 988"
       ]
      }
     ],
     "prompt_number": 74
    },
    {
     "cell_type": "code",
     "collapsed": true,
     "input": [
      "(tracks1.x - tracks0.x).dropna()"
     ],
     "language": "python",
     "metadata": {},
     "outputs": [
      {
       "output_type": "pyout",
       "prompt_number": 75,
       "text": [
        "particle\n",
        "1000        4.200264\n",
        "1001        4.139130\n",
        "1003        4.416439\n",
        "1004        4.690804\n",
        "1005        4.840473\n",
        "1006        0.428593\n",
        "1007        0.188572\n",
        "1008        0.376064\n",
        "1009        0.339508\n",
        "1010        0.401295\n",
        "1011        0.490200\n",
        "1012        0.327820\n",
        "1013        0.661701\n",
        "1014        0.885834\n",
        "1015        1.123062\n",
        "...\n",
        "1985        0.730347\n",
        "1986        0.807320\n",
        "1987        0.856102\n",
        "1988        1.693123\n",
        "1989        1.707314\n",
        "1990        1.804489\n",
        "1991        1.830193\n",
        "1992        1.952911\n",
        "1993        2.409294\n",
        "1994        2.475525\n",
        "1995        2.559380\n",
        "1996        2.840157\n",
        "1997        3.000153\n",
        "1998        3.658020\n",
        "1999        4.336632\n",
        "Name: x, Length: 975"
       ]
      }
     ],
     "prompt_number": 75
    },
    {
     "cell_type": "code",
     "collapsed": false,
     "input": [
      "%%timeit\n",
      "frames = tracks.frame.unique()\n",
      "msd_dt = []\n",
      "msd_msd = []\n",
      "for dt in range(1, 10):\n",
      "    nsamples = 0\n",
      "    sdsum = 0\n",
      "    for t in frames[0:len(frames) - dt]:\n",
      "        tracks0 = tracks[tracks.frame == t].set_index('particle')\n",
      "        tracks1 = tracks[tracks.frame == t + dt].set_index('particle')\n",
      "        disps = (tracks1.x - tracks0.x).dropna()**2\n",
      "        nsamples += len(disps)\n",
      "        sdsum += sum(disps)\n",
      "    msd_dt.append(dt)\n",
      "    msd_msd.append(sdsum / nsamples)"
     ],
     "language": "python",
     "metadata": {},
     "outputs": [
      {
       "output_type": "stream",
       "stream": "stdout",
       "text": [
        "10 loops, best of 3: 129 ms per loop\n"
       ]
      }
     ],
     "prompt_number": 98
    },
    {
     "cell_type": "code",
     "collapsed": false,
     "input": [
      "plot(msd_dt, msd_msd, 'o-')\n",
      "loglog();"
     ],
     "language": "python",
     "metadata": {},
     "outputs": [
      {
       "output_type": "display_data",
       "png": "[encoded data removed]"
      }
     ],
     "prompt_number": 95
    },
    {
     "cell_type": "markdown",
     "metadata": {},
     "source": [
      "**FASTER!!!!**"
     ]
    },
    {
     "cell_type": "code",
     "collapsed": false,
     "input": [
      "tracks_pivot = tracks.pivot(index='particle', columns='frame', values='x')"
     ],
     "language": "python",
     "metadata": {},
     "outputs": [],
     "prompt_number": 80
    },
    {
     "cell_type": "code",
     "collapsed": false,
     "input": [
      "tracks_pivot.head()"
     ],
     "language": "python",
     "metadata": {},
     "outputs": [
      {
       "html": [
        "<div style=\"max-height:1000px;max-width:1500px;overflow:auto;\">\n",
        "<table border=\"1\" class=\"dataframe\">\n",
        "  <thead>\n",
        "    <tr style=\"text-align: right;\">\n",
        "      <th>frame</th>\n",
        "      <th>10.0</th>\n",
        "      <th>11.0</th>\n",
        "      <th>12.0</th>\n",
        "      <th>13.0</th>\n",
        "      <th>14.0</th>\n",
        "      <th>15.0</th>\n",
        "      <th>16.0</th>\n",
        "      <th>17.0</th>\n",
        "      <th>18.0</th>\n",
        "      <th>19.0</th>\n",
        "    </tr>\n",
        "    <tr>\n",
        "      <th>particle</th>\n",
        "      <th></th>\n",
        "      <th></th>\n",
        "      <th></th>\n",
        "      <th></th>\n",
        "      <th></th>\n",
        "      <th></th>\n",
        "      <th></th>\n",
        "      <th></th>\n",
        "      <th></th>\n",
        "      <th></th>\n",
        "    </tr>\n",
        "  </thead>\n",
        "  <tbody>\n",
        "    <tr>\n",
        "      <td><strong>1000</strong></td>\n",
        "      <td> 34.951893</td>\n",
        "      <td> 35.155350</td>\n",
        "      <td> 35.798248</td>\n",
        "      <td> 36.143017</td>\n",
        "      <td> 36.643360</td>\n",
        "      <td> 37.188900</td>\n",
        "      <td> 37.676750</td>\n",
        "      <td> 37.992592</td>\n",
        "      <td> 38.638836</td>\n",
        "      <td> 39.152157</td>\n",
        "    </tr>\n",
        "    <tr>\n",
        "      <td><strong>1001</strong></td>\n",
        "      <td> 33.889210</td>\n",
        "      <td> 33.863613</td>\n",
        "      <td> 34.077541</td>\n",
        "      <td> 34.860668</td>\n",
        "      <td> 34.939117</td>\n",
        "      <td> 35.918686</td>\n",
        "      <td> 36.104969</td>\n",
        "      <td> 36.746002</td>\n",
        "      <td> 37.097622</td>\n",
        "      <td> 38.028339</td>\n",
        "    </tr>\n",
        "    <tr>\n",
        "      <td><strong>1002</strong></td>\n",
        "      <td> 34.297432</td>\n",
        "      <td> 34.309711</td>\n",
        "      <td> 35.276798</td>\n",
        "      <td> 35.342838</td>\n",
        "      <td>       NaN</td>\n",
        "      <td>       NaN</td>\n",
        "      <td>       NaN</td>\n",
        "      <td>       NaN</td>\n",
        "      <td>       NaN</td>\n",
        "      <td>       NaN</td>\n",
        "    </tr>\n",
        "    <tr>\n",
        "      <td><strong>1003</strong></td>\n",
        "      <td> 34.961315</td>\n",
        "      <td> 35.202560</td>\n",
        "      <td> 35.801159</td>\n",
        "      <td> 36.156731</td>\n",
        "      <td> 36.748325</td>\n",
        "      <td> 37.273472</td>\n",
        "      <td> 37.923805</td>\n",
        "      <td> 38.212910</td>\n",
        "      <td> 38.981476</td>\n",
        "      <td> 39.377754</td>\n",
        "    </tr>\n",
        "    <tr>\n",
        "      <td><strong>1004</strong></td>\n",
        "      <td> 35.042831</td>\n",
        "      <td> 35.220211</td>\n",
        "      <td> 35.822945</td>\n",
        "      <td> 36.166912</td>\n",
        "      <td> 36.724869</td>\n",
        "      <td> 37.540852</td>\n",
        "      <td> 38.031094</td>\n",
        "      <td> 38.552422</td>\n",
        "      <td> 39.074871</td>\n",
        "      <td> 39.733635</td>\n",
        "    </tr>\n",
        "  </tbody>\n",
        "</table>\n",
        "</div>"
       ],
       "output_type": "pyout",
       "prompt_number": 82,
       "text": [
        "frame            10         11         12         13         14         15         16  \\\n",
        "particle                                                                                \n",
        "1000      34.951893  35.155350  35.798248  36.143017  36.643360  37.188900  37.676750   \n",
        "1001      33.889210  33.863613  34.077541  34.860668  34.939117  35.918686  36.104969   \n",
        "1002      34.297432  34.309711  35.276798  35.342838        NaN        NaN        NaN   \n",
        "1003      34.961315  35.202560  35.801159  36.156731  36.748325  37.273472  37.923805   \n",
        "1004      35.042831  35.220211  35.822945  36.166912  36.724869  37.540852  38.031094   \n",
        "\n",
        "frame            17         18         19  \n",
        "particle                                   \n",
        "1000      37.992592  38.638836  39.152157  \n",
        "1001      36.746002  37.097622  38.028339  \n",
        "1002            NaN        NaN        NaN  \n",
        "1003      38.212910  38.981476  39.377754  \n",
        "1004      38.552422  39.074871  39.733635  "
       ]
      }
     ],
     "prompt_number": 82
    },
    {
     "cell_type": "code",
     "collapsed": false,
     "input": [
      "%%timeit\n",
      "tracks_pivot = tracks.pivot(index='particle', columns='frame', values='x')\n",
      "tracks_pivot_values = tracks_pivot.values\n",
      "msd_dt = []\n",
      "msd_msd = []\n",
      "for dt in range(1, 10):\n",
      "    #disps = tracks_pivot[:,dt:] - tracks_pivot[:,:-dt] # No! We can't index a DF like this\n",
      "    disps = tracks_pivot_values[:,dt:] - tracks_pivot_values[:,:-dt]\n",
      "    disps_flat = disps.flatten()\n",
      "    disps_flat_real = disps_flat.compress(~isnan(disps_flat))\n",
      "    msd_dt.append(dt)\n",
      "    msd_msd.append(sum(disps_flat_real**2) / len(disps_flat_real))"
     ],
     "language": "python",
     "metadata": {},
     "outputs": [
      {
       "output_type": "stream",
       "stream": "stdout",
       "text": [
        "100 loops, best of 3: 5.54 ms per loop\n"
       ]
      }
     ],
     "prompt_number": 92
    },
    {
     "cell_type": "code",
     "collapsed": false,
     "input": [
      "plot(msd_dt, msd_msd, 'o-')\n",
      "loglog();"
     ],
     "language": "python",
     "metadata": {},
     "outputs": [
      {
       "output_type": "display_data",
       "png": "[encoded data removed]"
      }
     ],
     "prompt_number": 94
    },
    {
     "cell_type": "markdown",
     "metadata": {},
     "source": [
      "Functions and modules\n",
      "====\n",
      "\n",
      "- Start with no args: `def msd():`\n",
      "- Use tab key to indent selection, but only if you do it from the bottom up\n",
      "- What parts of this code shouldn't be hard-coded?"
     ]
    },
    {
     "cell_type": "code",
     "collapsed": false,
     "input": [
      "def msd(tracks, maxdt=9):\n",
      "    tracks_pivot = tracks.pivot(index='particle', columns='frame', values='x')\n",
      "    tracks_pivot_values = tracks_pivot.values\n",
      "    msd_dt = []\n",
      "    msd_msd = []\n",
      "    for dt in range(1, maxdt + 1):\n",
      "        #disps = tracks_pivot[:,dt:] - tracks_pivot[:,:-dt] # No! We can't index a DF like this\n",
      "        disps = tracks_pivot_values[:,dt:] - tracks_pivot_values[:,:-dt]\n",
      "        disps_flat = disps.flatten()\n",
      "        disps_flat_real = disps_flat.compress(~isnan(disps_flat))\n",
      "        msd_dt.append(dt)\n",
      "        msd_msd.append(sum(disps_flat_real**2) / len(disps_flat_real))\n",
      "    return msd_dt, msd_msd"
     ],
     "language": "python",
     "metadata": {},
     "outputs": [],
     "prompt_number": 99
    },
    {
     "cell_type": "code",
     "collapsed": false,
     "input": [
      "dt, msdvals = msd(tracks)\n",
      "plot(dt, msdvals, 'o-')\n",
      "loglog();"
     ],
     "language": "python",
     "metadata": {},
     "outputs": [
      {
       "output_type": "display_data",
       "png": "[encoded data removed]"
      }
     ],
     "prompt_number": 100
    },
    {
     "cell_type": "markdown",
     "metadata": {},
     "source": [
      "Putting it in a module\n",
      "----\n",
      "\n",
      "- Open TextWrangler and save a `nktracks.py` file (with your initials) in the `mypython` dir\n",
      "- Recreate the interactive environment by doing `from pylab import *`\n",
      "- Paste in the tracks reader and msd functions\n",
      "- Run `import nktracks`\n",
      "- Get an error for the tracks reader: no `pandas`\n",
      "- Fix the bug\n",
      "- `reload(nktracks)`"
     ]
    },
    {
     "cell_type": "markdown",
     "metadata": {},
     "source": [
      "Using other modules\n",
      "===="
     ]
    },
    {
     "cell_type": "code",
     "collapsed": false,
     "input": [
      "import cfsuite.packing"
     ],
     "language": "python",
     "metadata": {},
     "outputs": [],
     "prompt_number": 102
    },
    {
     "cell_type": "code",
     "collapsed": false,
     "input": [
      "cfsuite.packing.pairCorrelationVector?"
     ],
     "language": "python",
     "metadata": {},
     "outputs": [],
     "prompt_number": 111
    },
    {
     "cell_type": "code",
     "collapsed": false,
     "input": [
      "#%%timeit\n",
      "pcf, binedges = cfsuite.packing.pairCorrelationVector(tracks[tracks.frame == 11], cutoff=10)"
     ],
     "language": "python",
     "metadata": {},
     "outputs": [
      {
       "output_type": "stream",
       "stream": "stdout",
       "text": [
        "10 loops, best of 3: 82.5 ms per loop\n"
       ]
      }
     ],
     "prompt_number": 121
    },
    {
     "cell_type": "code",
     "collapsed": false,
     "input": [
      "pcolor(binedges, binedges, pcf)\n",
      "axis('equal')"
     ],
     "language": "python",
     "metadata": {},
     "outputs": [
      {
       "output_type": "pyout",
       "prompt_number": 120,
       "text": [
        "(-10.0, 15.0, -10.0, 10.0)"
       ]
      },
      {
       "output_type": "display_data",
       "png": "[encoded data removed]"
      }
     ],
     "prompt_number": 120
    },
    {
     "cell_type": "code",
     "collapsed": false,
     "input": [
      "%%prun\n",
      "pcf, binedges = cfsuite.packing.pairCorrelationVector(tracks[tracks.frame == 11], cutoff=10)"
     ],
     "language": "python",
     "metadata": {},
     "outputs": [
      {
       "output_type": "stream",
       "stream": "stdout",
       "text": [
        "\n"
       ]
      }
     ],
     "prompt_number": 122
    },
    {
     "cell_type": "markdown",
     "metadata": {},
     "source": [
      "Workflow tips\n",
      "====\n",
      "\n",
      "We'll have to do this another time...\n",
      "\n",
      "Anyhow, here is some setup code for a demo."
     ]
    },
    {
     "cell_type": "code",
     "collapsed": false,
     "input": [
      "import cfsuite.store\n",
      "reload(cfsuite.store)\n",
      "from cfsuite.store import DirBase"
     ],
     "language": "python",
     "metadata": {},
     "outputs": [],
     "prompt_number": 127
    },
    {
     "cell_type": "code",
     "collapsed": false,
     "input": [
      "se = DirBase()"
     ],
     "language": "python",
     "metadata": {},
     "outputs": [],
     "prompt_number": 128
    },
    {
     "cell_type": "code",
     "collapsed": false,
     "input": [
      "ls"
     ],
     "language": "python",
     "metadata": {},
     "outputs": [
      {
       "output_type": "stream",
       "stream": "stdout",
       "text": [
        "\u001b[34mdata\u001b[m\u001b[m/\r\n"
       ]
      }
     ],
     "prompt_number": 129
    },
    {
     "cell_type": "code",
     "collapsed": false,
     "input": [
      "for i in range(1, 5):\n",
      "    mov = se['movie%.2i' % i]\n",
      "    mov.p.makedirs_p()\n",
      "    (mov.p / 'datafile.txt').touch()\n",
      "    (mov.p / 'configfile.ini').touch()"
     ],
     "language": "python",
     "metadata": {},
     "outputs": [],
     "prompt_number": 134
    },
    {
     "cell_type": "code",
     "collapsed": false,
     "input": [],
     "language": "python",
     "metadata": {},
     "outputs": []
    }
   ],
   "metadata": {}
  }
 ]
}