{
 "metadata": {
  "name": "demo2"
 },
 "nbformat": 3,
 "nbformat_minor": 0,
 "worksheets": [
  {
   "cells": [
    {
     "cell_type": "markdown",
     "metadata": {},
     "source": [
      "Big example\n",
      "====\n",
      "\n",
      "Aggregate and collate data from several directories.\n",
      "\n",
      "Choosing a directory\n",
      "----\n",
      "\n",
      "First, we'll just make our way to a nice spot in the filesystem. Change as needed."
     ]
    },
    {
     "cell_type": "code",
     "collapsed": false,
     "input": [
      "pwd"
     ],
     "language": "python",
     "metadata": {},
     "outputs": [
      {
       "output_type": "pyout",
       "prompt_number": 22,
       "text": [
        "u'/Users/nkeim/projects/pythondemo2'"
       ]
      }
     ],
     "prompt_number": 22
    },
    {
     "cell_type": "code",
     "collapsed": false,
     "input": [
      "#rm -r projects/pythondemo2"
     ],
     "language": "python",
     "metadata": {},
     "outputs": [],
     "prompt_number": 1
    },
    {
     "cell_type": "code",
     "collapsed": false,
     "input": [
      "#mkdir projects/pythondemo2"
     ],
     "language": "python",
     "metadata": {},
     "outputs": [],
     "prompt_number": 5
    },
    {
     "cell_type": "code",
     "collapsed": false,
     "input": [
      "cd projects/pythondemo2"
     ],
     "language": "python",
     "metadata": {},
     "outputs": [
      {
       "output_type": "stream",
       "stream": "stdout",
       "text": [
        "/Users/nkeim/projects/pythondemo2"
       ]
      },
      {
       "output_type": "stream",
       "stream": "stdout",
       "text": [
        "\n"
       ]
      }
     ],
     "prompt_number": 6
    },
    {
     "cell_type": "markdown",
     "metadata": {},
     "source": [
      "Creating the data files\n",
      "------\n",
      "\n",
      "Next, we'll create the data files to be read in the example. I'm not going to explain this part!"
     ]
    },
    {
     "cell_type": "code",
     "collapsed": false,
     "input": [
      "import os\n",
      "from os import path\n",
      "voltages = linspace(0, 3, 11)\n",
      "shuffle(voltages) # To make it interesting\n",
      "for i, voltage in enumerate(voltages):\n",
      "    dirname = 'experiment%i-%f-volts' % (i, voltage)\n",
      "    if not path.exists(dirname):\n",
      "        os.mkdir(dirname)\n",
      "    velocities = rand(20) * 2 * voltage**2\n",
      "    savetxt(dirname + '/velocities.txt', velocities)"
     ],
     "language": "python",
     "metadata": {},
     "outputs": [],
     "prompt_number": 18
    },
    {
     "cell_type": "markdown",
     "metadata": {},
     "source": [
      "Now, here's what we're left with:"
     ]
    },
    {
     "cell_type": "code",
     "collapsed": false,
     "input": [
      "ls"
     ],
     "language": "python",
     "metadata": {},
     "outputs": [
      {
       "output_type": "stream",
       "stream": "stdout",
       "text": [
        "\u001b[34mexperiment0-1.200000-volts\u001b[m\u001b[m/  \u001b[34mexperiment3-0.300000-volts\u001b[m\u001b[m/  \u001b[34mexperiment7-2.400000-volts\u001b[m\u001b[m/\r\n",
        "\u001b[34mexperiment1-0.000000-volts\u001b[m\u001b[m/  \u001b[34mexperiment4-1.500000-volts\u001b[m\u001b[m/  \u001b[34mexperiment8-0.600000-volts\u001b[m\u001b[m/\r\n",
        "\u001b[34mexperiment10-3.000000-volts\u001b[m\u001b[m/ \u001b[34mexperiment5-1.800000-volts\u001b[m\u001b[m/  \u001b[34mexperiment9-2.100000-volts\u001b[m\u001b[m/\r\n",
        "\u001b[34mexperiment2-2.700000-volts\u001b[m\u001b[m/  \u001b[34mexperiment6-0.900000-volts\u001b[m\u001b[m/\r\n"
       ]
      }
     ],
     "prompt_number": 19
    },
    {
     "cell_type": "code",
     "collapsed": false,
     "input": [
      "ls experiment0-*"
     ],
     "language": "python",
     "metadata": {},
     "outputs": [
      {
       "output_type": "stream",
       "stream": "stdout",
       "text": [
        "velocities.txt\r\n"
       ]
      }
     ],
     "prompt_number": 20
    },
    {
     "cell_type": "markdown",
     "metadata": {},
     "source": [
      "Developing the code\n",
      "---------\n",
      "\n",
      "We'd like to take the largest velocity from each directory, and then make a plot of velocity vs. voltage.\n",
      "\n",
      "First, let's make a list of directories to be read, using a wildcard (\"glob\") pattern."
     ]
    },
    {
     "cell_type": "code",
     "collapsed": false,
     "input": [
      "import glob\n",
      "dirs = glob.glob('experiment*-*-volts')\n",
      "dirs"
     ],
     "language": "python",
     "metadata": {},
     "outputs": [
      {
       "output_type": "pyout",
       "prompt_number": 24,
       "text": [
        "['experiment0-1.200000-volts',\n",
        " 'experiment1-0.000000-volts',\n",
        " 'experiment10-3.000000-volts',\n",
        " 'experiment2-2.700000-volts',\n",
        " 'experiment3-0.300000-volts',\n",
        " 'experiment4-1.500000-volts',\n",
        " 'experiment5-1.800000-volts',\n",
        " 'experiment6-0.900000-volts',\n",
        " 'experiment7-2.400000-volts',\n",
        " 'experiment8-0.600000-volts',\n",
        " 'experiment9-2.100000-volts']"
       ]
      }
     ],
     "prompt_number": 24
    },
    {
     "cell_type": "markdown",
     "metadata": {},
     "source": [
      "Now, let's figure out how to read the data and take the mean, using the first directory as an example.\n",
      "\n",
      "Writing the code to parse the file contents from scratch would not be hard, but instead we'll use the `loadtxt()` function from `numpy`, which is loaded by default into this Notebook environment."
     ]
    },
    {
     "cell_type": "code",
     "collapsed": false,
     "input": [
      "dirname = dirs[0]\n",
      "data = loadtxt(dirname + '/velocities.txt')\n",
      "print data.shape # Array dimensions\n",
      "print mean(data)"
     ],
     "language": "python",
     "metadata": {},
     "outputs": [
      {
       "output_type": "stream",
       "stream": "stdout",
       "text": [
        "(20,)\n",
        "1.57061854678\n"
       ]
      }
     ],
     "prompt_number": 30
    },
    {
     "cell_type": "markdown",
     "metadata": {},
     "source": [
      "We also need to know the voltage, which is inside the directory name. We can use the `split()` method of string objects to isolate it."
     ]
    },
    {
     "cell_type": "code",
     "collapsed": false,
     "input": [
      "dirname.split('-')"
     ],
     "language": "python",
     "metadata": {},
     "outputs": [
      {
       "output_type": "pyout",
       "prompt_number": 27,
       "text": [
        "['experiment0', '1.200000', 'volts']"
       ]
      }
     ],
     "prompt_number": 27
    },
    {
     "cell_type": "code",
     "collapsed": false,
     "input": [
      "voltage = float(dirname.split('-')[1])\n",
      "voltage"
     ],
     "language": "python",
     "metadata": {},
     "outputs": [
      {
       "output_type": "pyout",
       "prompt_number": 29,
       "text": [
        "1.2"
       ]
      }
     ],
     "prompt_number": 29
    },
    {
     "cell_type": "markdown",
     "metadata": {},
     "source": [
      "Now, let's run it for each directory and collect the results in a dictionary."
     ]
    },
    {
     "cell_type": "code",
     "collapsed": false,
     "input": [
      "vel_vs_voltage = {}\n",
      "for dirname in dirs:\n",
      "    voltage = float(dirname.split('-')[1])\n",
      "    data = loadtxt(dirname + '/velocities.txt')\n",
      "    vel_vs_voltage[voltage] = mean(data)\n",
      "vel_vs_voltage"
     ],
     "language": "python",
     "metadata": {},
     "outputs": [
      {
       "output_type": "pyout",
       "prompt_number": 33,
       "text": [
        "{0.0: 0.0,\n",
        " 0.3: 0.086120237079729309,\n",
        " 0.6: 0.24924946946686447,\n",
        " 0.9: 0.67885396052577618,\n",
        " 1.2: 1.5706185467815019,\n",
        " 1.5: 2.2150070166039209,\n",
        " 1.8: 3.8154763071105577,\n",
        " 2.1: 4.924849449916028,\n",
        " 2.4: 5.6467798650671659,\n",
        " 2.7: 6.9521370052355973,\n",
        " 3.0: 6.1325786472796615}"
       ]
      }
     ],
     "prompt_number": 33
    },
    {
     "cell_type": "markdown",
     "metadata": {},
     "source": [
      "The dictionary is presented in nice sorted order here, but in fact dictionaries have no inherent order! This causes a problem when we make a plot."
     ]
    },
    {
     "cell_type": "code",
     "collapsed": false,
     "input": [
      "vel_vs_voltage.keys()"
     ],
     "language": "python",
     "metadata": {},
     "outputs": [
      {
       "output_type": "pyout",
       "prompt_number": 34,
       "text": [
        "[0.0, 1.5, 3.0, 2.4, 2.7, 1.2, 0.3, 0.6, 2.1, 1.8, 0.9]"
       ]
      }
     ],
     "prompt_number": 34
    },
    {
     "cell_type": "code",
     "collapsed": false,
     "input": [
      "plot(vel_vs_voltage.keys(), vel_vs_voltage.values())"
     ],
     "language": "python",
     "metadata": {},
     "outputs": [
      {
       "output_type": "pyout",
       "prompt_number": 47,
       "text": [
        "[<matplotlib.lines.Line2D at 0x10bf9f050>]"
       ]
      },
      {
       "output_type": "display_data",
       "png": "[encoded data removed]"
      }
     ],
     "prompt_number": 47
    },
    {
     "cell_type": "markdown",
     "metadata": {},
     "source": [
      "For plotting purposes, we'd like to access the dictionary in order of increasing voltage."
     ]
    },
    {
     "cell_type": "code",
     "collapsed": false,
     "input": [
      "voltages = sorted(vel_vs_voltage.keys())\n",
      "means = []\n",
      "for voltage in voltages:\n",
      "    means.append(vel_vs_voltage[voltage])"
     ],
     "language": "python",
     "metadata": {},
     "outputs": [],
     "prompt_number": 35
    },
    {
     "cell_type": "code",
     "collapsed": false,
     "input": [
      "plot(voltages, means)\n",
      "xlabel('Voltage (V)')\n",
      "ylabel('Mean velocity ($\\mu$m/s)')\n",
      "savefig('vel_vs_voltage.pdf')"
     ],
     "language": "python",
     "metadata": {},
     "outputs": [
      {
       "output_type": "display_data",
       "png": "[encoded data removed]"
      }
     ],
     "prompt_number": 39
    },
    {
     "cell_type": "markdown",
     "metadata": {},
     "source": [
      "Version 2\n",
      "==========\n",
      "\n",
      "Lastly, we'll do it in an intermediate-level way that is a little more flexible."
     ]
    },
    {
     "cell_type": "code",
     "collapsed": false,
     "input": [
      "def aggregate_velocities(dirs, filename='velocities.txt'):\n",
      "    \"\"\"Gather mean velocity data from the directories given by 'dirs'.\n",
      "\n",
      "    Directory names should be in the form xxx-[voltage]-xxx\n",
      "\n",
      "    Returns a tuple of (voltages, mean_velocities).\n",
      "    \"\"\"\n",
      "    vel_vs_voltage = {}\n",
      "    for dirname in dirs:\n",
      "        voltage = float(dirname.split('-')[1])\n",
      "        veldata = loadtxt(dirname + '/' + filename)\n",
      "        if voltage in vel_vs_voltage:\n",
      "            raise ValueError(\"I don't know how to handle multiple instances of the same voltage: \" + str(voltage))\n",
      "        else:\n",
      "            vel_vs_voltage[voltage] = mean(veldata)\n",
      "    voltages = sorted(vel_vs_voltage.keys())\n",
      "    return voltages, [vel_vs_voltage[v] for v in voltages]\n"
     ],
     "language": "python",
     "metadata": {},
     "outputs": [],
     "prompt_number": 42
    },
    {
     "cell_type": "code",
     "collapsed": false,
     "input": [
      "import glob\n",
      "voltages, velocities = aggregate_velocities(glob.glob('experiment*-*-volts'))\n",
      "plot(voltages, velocities, 'ro-')\n",
      "xlabel('Voltage (V)')\n",
      "ylabel(r'Mean velocity $\\langle U \\rangle$ ($\\mu$m/s)')\n",
      "savefig('vel_vs_voltage.pdf')"
     ],
     "language": "python",
     "metadata": {},
     "outputs": [
      {
       "output_type": "display_data",
       "png": "[encoded data removed]"
      }
     ],
     "prompt_number": 46
    },
    {
     "cell_type": "code",
     "collapsed": false,
     "input": [],
     "language": "python",
     "metadata": {},
     "outputs": []
    }
   ],
   "metadata": {}
  }
 ]
}