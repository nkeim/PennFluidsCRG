{
 "metadata": {
  "name": "130111-arrays-demo"
 },
 "nbformat": 3,
 "nbformat_minor": 0,
 "worksheets": [
  {
   "cells": [
    {
     "cell_type": "markdown",
     "metadata": {},
     "source": [
      "What can I do with a sequence?\n",
      "=====\n",
      "\n",
      "The most general sequence type is a list. If you understand how to work with lists, everything else is just exceptions to the rules.\n",
      "\n",
      "Lists are constructed as literals (with square brackets). Many functions, such as `range()`, also return lists."
     ]
    },
    {
     "cell_type": "code",
     "collapsed": false,
     "input": [
      "lis = [4, 5, 6, 7]\n",
      "print lis\n",
      "rangelist = range(4, 8)\n",
      "print rangelist"
     ],
     "language": "python",
     "metadata": {},
     "outputs": [
      {
       "output_type": "stream",
       "stream": "stdout",
       "text": [
        "[4, 5, 6, 7]\n",
        "[4, 5, 6, 7]\n"
       ]
      }
     ],
     "prompt_number": 1
    },
    {
     "cell_type": "markdown",
     "metadata": {},
     "source": [
      "Length, iteration, and membership tests\n",
      "----\n"
     ]
    },
    {
     "cell_type": "code",
     "collapsed": false,
     "input": [
      "len(lis) # Number of items"
     ],
     "language": "python",
     "metadata": {},
     "outputs": [
      {
       "output_type": "pyout",
       "prompt_number": 2,
       "text": [
        "4"
       ]
      }
     ],
     "prompt_number": 2
    },
    {
     "cell_type": "code",
     "collapsed": false,
     "input": [
      "for item in lis: # Iteration\n",
      "    print item"
     ],
     "language": "python",
     "metadata": {},
     "outputs": [
      {
       "output_type": "stream",
       "stream": "stdout",
       "text": [
        "4\n",
        "5\n",
        "6\n",
        "7\n"
       ]
      }
     ],
     "prompt_number": 3
    },
    {
     "cell_type": "code",
     "collapsed": false,
     "input": [
      "if 7 in lis:\n",
      "    print 'List contains 7'\n",
      "else:\n",
      "    print 'No 7'"
     ],
     "language": "python",
     "metadata": {},
     "outputs": [
      {
       "output_type": "stream",
       "stream": "stdout",
       "text": [
        "List contains 7\n"
       ]
      }
     ],
     "prompt_number": 4
    },
    {
     "cell_type": "markdown",
     "metadata": {},
     "source": [
      "Indexing\n",
      "-----\n",
      "\n",
      "Lists are *ordered* and are *indexable* with numbers"
     ]
    },
    {
     "cell_type": "code",
     "collapsed": false,
     "input": [
      "lis[0] # 0 is the first element, like in C"
     ],
     "language": "python",
     "metadata": {},
     "outputs": [
      {
       "output_type": "pyout",
       "prompt_number": 5,
       "text": [
        "4"
       ]
      }
     ],
     "prompt_number": 5
    },
    {
     "cell_type": "markdown",
     "metadata": {},
     "source": [
      "**Slices** can be constructed using a colon. The convention for specifying slices can be hard to understand, so let's look at it a couple different ways."
     ]
    },
    {
     "cell_type": "code",
     "collapsed": false,
     "input": [
      "lis[1:3] # takes the 2nd and 3rd elements of lis"
     ],
     "language": "python",
     "metadata": {},
     "outputs": [
      {
       "output_type": "pyout",
       "prompt_number": 6,
       "text": [
        "[5, 6]"
       ]
      }
     ],
     "prompt_number": 6
    },
    {
     "cell_type": "markdown",
     "metadata": {},
     "source": [
      "In slices, it's as if the index numbers point to the spaces *between* the list elements."
     ]
    },
    {
     "cell_type": "raw",
     "metadata": {},
     "source": [
      "lis = [  4,  5,  6,  7  ]\n",
      "       ^   ^   ^   ^   ^\n",
      "       0   1   2   3   4"
     ]
    },
    {
     "cell_type": "markdown",
     "metadata": {},
     "source": [
      "You try it!"
     ]
    },
    {
     "cell_type": "code",
     "collapsed": false,
     "input": [],
     "language": "python",
     "metadata": {},
     "outputs": [],
     "prompt_number": 6
    },
    {
     "cell_type": "markdown",
     "metadata": {},
     "source": [
      "A good mnemonic for slices is that `lis[i:j]` returns exactly `j - i` elements.\n",
      "\n",
      "Also, the `range()` function interprets its arguments in the same way."
     ]
    },
    {
     "cell_type": "code",
     "collapsed": false,
     "input": [
      "# This prints the same results as lis[1:3]\n",
      "for i in range(1, 3):\n",
      "    print lis[i]"
     ],
     "language": "python",
     "metadata": {},
     "outputs": [
      {
       "output_type": "stream",
       "stream": "stdout",
       "text": [
        "5\n",
        "6\n"
       ]
      }
     ],
     "prompt_number": 7
    },
    {
     "cell_type": "markdown",
     "metadata": {},
     "source": [
      "Just like non-negative indexes count forward from the first element, **negative indexes** count backward from the *last* element."
     ]
    },
    {
     "cell_type": "code",
     "collapsed": false,
     "input": [
      "lis[-1]"
     ],
     "language": "python",
     "metadata": {},
     "outputs": [
      {
       "output_type": "pyout",
       "prompt_number": 8,
       "text": [
        "7"
       ]
      }
     ],
     "prompt_number": 8
    },
    {
     "cell_type": "markdown",
     "metadata": {},
     "source": [
      "It also works for slices"
     ]
    },
    {
     "cell_type": "raw",
     "metadata": {},
     "source": [
      "lis = [  4,  5,  6,  7  ]\n",
      "       ^   ^   ^   ^   ^\n",
      "      -5  -4  -3  -2  -1"
     ]
    },
    {
     "cell_type": "code",
     "collapsed": false,
     "input": [
      "lis[-4:-2]"
     ],
     "language": "python",
     "metadata": {},
     "outputs": [
      {
       "output_type": "pyout",
       "prompt_number": 9,
       "text": [
        "[4, 5]"
       ]
      }
     ],
     "prompt_number": 9
    },
    {
     "cell_type": "markdown",
     "metadata": {},
     "source": [
      "If a slice starts at 0 or ends at the end, you can omit the number"
     ]
    },
    {
     "cell_type": "code",
     "collapsed": false,
     "input": [
      "print lis[:]\n",
      "print lis[2:]\n",
      "print lis[:-1]"
     ],
     "language": "python",
     "metadata": {},
     "outputs": [
      {
       "output_type": "stream",
       "stream": "stdout",
       "text": [
        "[4, 5, 6, 7]\n",
        "[6, 7]\n",
        "[4, 5, 6]\n"
       ]
      }
     ],
     "prompt_number": 10
    },
    {
     "cell_type": "markdown",
     "metadata": {},
     "source": [
      "Finally, by adding a third number to the slice, we can specify a step size other than 1."
     ]
    },
    {
     "cell_type": "code",
     "collapsed": false,
     "input": [
      "print lis[::2]\n",
      "print lis[1::2]\n",
      "print lis[::-1] # Reverse"
     ],
     "language": "python",
     "metadata": {},
     "outputs": [
      {
       "output_type": "stream",
       "stream": "stdout",
       "text": [
        "[4, 6]\n",
        "[5, 7]\n",
        "[7, 6, 5, 4]\n"
       ]
      }
     ],
     "prompt_number": 11
    },
    {
     "cell_type": "markdown",
     "metadata": {},
     "source": [
      "This same convention is also used for the `range()` function."
     ]
    },
    {
     "cell_type": "code",
     "collapsed": false,
     "input": [
      "range(0, 4, 2)"
     ],
     "language": "python",
     "metadata": {},
     "outputs": [
      {
       "output_type": "pyout",
       "prompt_number": 12,
       "text": [
        "[0, 2]"
       ]
      }
     ],
     "prompt_number": 12
    },
    {
     "cell_type": "markdown",
     "metadata": {},
     "source": [
      "Mutability\n",
      "-----\n",
      "\n",
      "You can add, remove, or replace items at will."
     ]
    },
    {
     "cell_type": "code",
     "collapsed": false,
     "input": [
      "lis.append(10)\n",
      "lis"
     ],
     "language": "python",
     "metadata": {},
     "outputs": [
      {
       "output_type": "pyout",
       "prompt_number": 13,
       "text": [
        "[4, 5, 6, 7, 10]"
       ]
      }
     ],
     "prompt_number": 13
    },
    {
     "cell_type": "code",
     "collapsed": false,
     "input": [
      "del lis[1]\n",
      "lis"
     ],
     "language": "python",
     "metadata": {},
     "outputs": [
      {
       "output_type": "pyout",
       "prompt_number": 14,
       "text": [
        "[4, 6, 7, 10]"
       ]
      }
     ],
     "prompt_number": 14
    },
    {
     "cell_type": "code",
     "collapsed": false,
     "input": [
      "lis[0] = 8\n",
      "lis"
     ],
     "language": "python",
     "metadata": {},
     "outputs": [
      {
       "output_type": "pyout",
       "prompt_number": 15,
       "text": [
        "[8, 6, 7, 10]"
       ]
      }
     ],
     "prompt_number": 15
    },
    {
     "cell_type": "markdown",
     "metadata": {},
     "source": [
      "Methods\n",
      "-----\n",
      "\n",
      "Like almost any Python object, lists have several **methods** for less common operations. You just saw one of them, `append()`. Here are 2 more:"
     ]
    },
    {
     "cell_type": "code",
     "collapsed": false,
     "input": [
      "lis.sort()\n",
      "lis"
     ],
     "language": "python",
     "metadata": {},
     "outputs": [
      {
       "output_type": "pyout",
       "prompt_number": 16,
       "text": [
        "[6, 7, 8, 10]"
       ]
      }
     ],
     "prompt_number": 16
    },
    {
     "cell_type": "code",
     "collapsed": false,
     "input": [
      "lis.count(8) # How many times does 8 appear?"
     ],
     "language": "python",
     "metadata": {},
     "outputs": [
      {
       "output_type": "pyout",
       "prompt_number": 17,
       "text": [
        "1"
       ]
      }
     ],
     "prompt_number": 17
    },
    {
     "cell_type": "markdown",
     "metadata": {},
     "source": [
      "You can get a full list of \"public\" methods (ones you are encouraged to use) by typing \"`lis.`\" and hitting Tab."
     ]
    },
    {
     "cell_type": "code",
     "collapsed": false,
     "input": [],
     "language": "python",
     "metadata": {},
     "outputs": [],
     "prompt_number": 17
    },
    {
     "cell_type": "markdown",
     "metadata": {},
     "source": [
      "Operators\n",
      "-----\n",
      "\n",
      "Like many Python objects, some arithmetic operators work on lists, too."
     ]
    },
    {
     "cell_type": "code",
     "collapsed": false,
     "input": [
      "lis * 2"
     ],
     "language": "python",
     "metadata": {},
     "outputs": [
      {
       "output_type": "pyout",
       "prompt_number": 18,
       "text": [
        "[6, 7, 8, 10, 6, 7, 8, 10]"
       ]
      }
     ],
     "prompt_number": 18
    },
    {
     "cell_type": "code",
     "collapsed": false,
     "input": [
      "lis + ['some', 'more', 'items']"
     ],
     "language": "python",
     "metadata": {},
     "outputs": [
      {
       "output_type": "pyout",
       "prompt_number": 19,
       "text": [
        "[6, 7, 8, 10, 'some', 'more', 'items']"
       ]
      }
     ],
     "prompt_number": 19
    },
    {
     "cell_type": "markdown",
     "metadata": {},
     "source": [
      "The arithmetic operators illustrate a common theme in Python: recycling syntax. Python has many types of variables (also called *classes*), and you will probably define a few of your own as you write code. But as much as possible, they have consistent interfaces. When you want to \n",
      "\n",
      "- join two strings together (`+`)\n",
      "- take every other element in a numeric array (slicing)\n",
      "- find out how many items are in a dictionary (`len()`)\n",
      "\n",
      "you will use the conventions you already know. If it makes sense, it will probably work!\n",
      "\n",
      "**Exercise:** join some strings together. Compute their lengths. Take slices."
     ]
    },
    {
     "cell_type": "code",
     "collapsed": false,
     "input": [],
     "language": "python",
     "metadata": {},
     "outputs": []
    },
    {
     "cell_type": "markdown",
     "metadata": {},
     "source": [
      "Other sequence types, briefly\n",
      "=====\n",
      "\n",
      "**Tuples** are not mutable."
     ]
    },
    {
     "cell_type": "code",
     "collapsed": false,
     "input": [
      "tup = (3, 4, 5)\n",
      "tup[0]"
     ],
     "language": "python",
     "metadata": {},
     "outputs": [
      {
       "output_type": "pyout",
       "prompt_number": 20,
       "text": [
        "3"
       ]
      }
     ],
     "prompt_number": 20
    },
    {
     "cell_type": "code",
     "collapsed": false,
     "input": [
      "tup[0] = 10"
     ],
     "language": "python",
     "metadata": {},
     "outputs": [
      {
       "ename": "TypeError",
       "evalue": "'tuple' object does not support item assignment",
       "output_type": "pyerr",
       "traceback": [
        "\u001b[0;31m---------------------------------------------------------------------------\u001b[0m\n\u001b[0;31mTypeError\u001b[0m                                 Traceback (most recent call last)",
        "\u001b[0;32m<ipython-input-21-482946123d3e>\u001b[0m in \u001b[0;36m<module>\u001b[0;34m()\u001b[0m\n\u001b[0;32m----> 1\u001b[0;31m \u001b[0mtup\u001b[0m\u001b[0;34m[\u001b[0m\u001b[0;36m0\u001b[0m\u001b[0;34m]\u001b[0m \u001b[0;34m=\u001b[0m \u001b[0;36m10\u001b[0m\u001b[0;34m\u001b[0m\u001b[0m\n\u001b[0m",
        "\u001b[0;31mTypeError\u001b[0m: 'tuple' object does not support item assignment"
       ]
      }
     ],
     "prompt_number": 21
    },
    {
     "cell_type": "markdown",
     "metadata": {},
     "source": [
      "**Strings** are not mutable, and they can only contain characters.\n",
      "\n",
      "Because they are immutable, tuples and strings can serve as keys of a **dictionary**, a very powerful data structure that will take you 3 minutes to learn in [that part of the tutorial](http://docs.python.org/2/tutorial/datastructures.html#dictionaries)."
     ]
    },
    {
     "cell_type": "markdown",
     "metadata": {},
     "source": [
      "Type *objects* (\"classes\")\n",
      "----\n",
      "\n",
      "Types are objects too! The `type()` function returns the class of something."
     ]
    },
    {
     "cell_type": "code",
     "collapsed": false,
     "input": [
      "type(7)"
     ],
     "language": "python",
     "metadata": {},
     "outputs": [
      {
       "output_type": "pyout",
       "prompt_number": 54,
       "text": [
        "int"
       ]
      }
     ],
     "prompt_number": 54
    },
    {
     "cell_type": "code",
     "collapsed": false,
     "input": [
      "type(int)"
     ],
     "language": "python",
     "metadata": {},
     "outputs": [
      {
       "output_type": "pyout",
       "prompt_number": 55,
       "text": [
        "type"
       ]
      }
     ],
     "prompt_number": 55
    },
    {
     "cell_type": "code",
     "collapsed": false,
     "input": [
      "type(plot)"
     ],
     "language": "python",
     "metadata": {},
     "outputs": [
      {
       "output_type": "pyout",
       "prompt_number": 53,
       "text": [
        "function"
       ]
      }
     ],
     "prompt_number": 53
    },
    {
     "cell_type": "markdown",
     "metadata": {},
     "source": [
      "Wherever it makes sense, you can use a type to convert a quantity to that type. Examples:"
     ]
    },
    {
     "cell_type": "code",
     "collapsed": false,
     "input": [
      "list('Hello') # Convert string sequence to list sequence"
     ],
     "language": "python",
     "metadata": {},
     "outputs": [
      {
       "output_type": "pyout",
       "prompt_number": 39,
       "text": [
        "['H', 'e', 'l', 'l', 'o']"
       ]
      }
     ],
     "prompt_number": 39
    },
    {
     "cell_type": "code",
     "collapsed": false,
     "input": [
      "float(5) # Integer to floating-point"
     ],
     "language": "python",
     "metadata": {},
     "outputs": [
      {
       "output_type": "pyout",
       "prompt_number": 41,
       "text": [
        "5.0"
       ]
      }
     ],
     "prompt_number": 41
    },
    {
     "cell_type": "code",
     "collapsed": false,
     "input": [
      "str(pi) # Floating-point to string"
     ],
     "language": "python",
     "metadata": {},
     "outputs": [
      {
       "output_type": "pyout",
       "prompt_number": 42,
       "text": [
        "'3.14159265359'"
       ]
      }
     ],
     "prompt_number": 42
    },
    {
     "cell_type": "markdown",
     "metadata": {},
     "source": [
      "There's much, much more to learn about data structures in the [relevant section of the Python Tutorial](http://docs.python.org/2/tutorial/datastructures.html)"
     ]
    },
    {
     "cell_type": "markdown",
     "metadata": {},
     "source": [
      "NumPy arrays\n",
      "====\n",
      "\n",
      "Arrays exist purely in the interest of speed. There's virtually nothing you can do with them that you can't also do with a list, some extra lines of Python code, and a lot of patience. However, each type the Python interpreter executes a line of code, there's a lot of overhead involved. For example, I could write"
     ]
    },
    {
     "cell_type": "code",
     "collapsed": false,
     "input": [
      "def cos_of_list(data):\n",
      "    \"\"\"Compute the cosine of each element in the list. Return another list.\"\"\"\n",
      "    return_list = []\n",
      "    for x in data:\n",
      "        return_list.append(cos(x))\n",
      "    return return_list\n",
      "\n",
      "angles = range(100) # Integers 0 to 99\n",
      "cosines = cos_of_list(angles)"
     ],
     "language": "python",
     "metadata": {},
     "outputs": [],
     "prompt_number": 22
    },
    {
     "cell_type": "markdown",
     "metadata": {},
     "source": [
      "We can measure its speed with `%%timeit`, which is available in the IPython Notebook as a \"cell magic.\""
     ]
    },
    {
     "cell_type": "code",
     "collapsed": false,
     "input": [
      "%%timeit\n",
      "angles = range(100)\n",
      "cosines = cos_of_list(angles)"
     ],
     "language": "python",
     "metadata": {},
     "outputs": [
      {
       "output_type": "stream",
       "stream": "stdout",
       "text": [
        "1000 loops, best of 3: 548 us per loop\n"
       ]
      }
     ],
     "prompt_number": 23
    },
    {
     "cell_type": "markdown",
     "metadata": {},
     "source": [
      "How fast is the equivalent operation with numpy arrays?\n",
      "\n",
      "Here, instead of a `for` loop, a single line of Python code operates on the whole array at once."
     ]
    },
    {
     "cell_type": "code",
     "collapsed": false,
     "input": [
      "%%timeit\n",
      "angles = arange(100) # Like range(), but returns a NumPy array\n",
      "cosines = cos(angles)"
     ],
     "language": "python",
     "metadata": {},
     "outputs": [
      {
       "output_type": "stream",
       "stream": "stdout",
       "text": [
        "100000 loops, best of 3: 7.58 us per loop\n"
       ]
      }
     ],
     "prompt_number": 24
    },
    {
     "cell_type": "markdown",
     "metadata": {},
     "source": [
      "Thus the entire scientific-computing infrastructure of Python is built on NumPy arrays, and not Python lists, dictionaries, etc.\n",
      "\n",
      "Creating arrays\n",
      "-----\n",
      "\n",
      "Because changing the size of an array (e.g. appending) is very inefficient, you should try to create them in advance, with their final dimensions. Besides `arange()`, `ones()`, `zeros()`, and `linspace()` are the array-creation functions you will use the most.\n",
      "\n",
      "There's no \"native\" syntax for an array literal. Instead you have to build it from some other type of sequence, e.g."
     ]
    },
    {
     "cell_type": "code",
     "collapsed": false,
     "input": [
      "a = array([3, 4, 5])"
     ],
     "language": "python",
     "metadata": {},
     "outputs": [],
     "prompt_number": 25
    },
    {
     "cell_type": "markdown",
     "metadata": {},
     "source": [
      "Arrays support `len()`, but unlike lists, etc. they can be multi-dimensional! For that, you will need the `shape` attribute:"
     ]
    },
    {
     "cell_type": "code",
     "collapsed": false,
     "input": [
      "print len(a)\n",
      "print shape(a) # Returns a tuple with 1 element, corresponding to 1 out of many possible dimensions"
     ],
     "language": "python",
     "metadata": {},
     "outputs": [
      {
       "output_type": "stream",
       "stream": "stdout",
       "text": [
        "3\n",
        "(3,)\n"
       ]
      }
     ],
     "prompt_number": 26
    },
    {
     "cell_type": "code",
     "collapsed": false,
     "input": [
      "arr_2d = ones((5, 6))\n",
      "print arr_2d\n",
      "print arr_2d.shape"
     ],
     "language": "python",
     "metadata": {},
     "outputs": [
      {
       "output_type": "stream",
       "stream": "stdout",
       "text": [
        "[[ 1.  1.  1.  1.  1.  1.]\n",
        " [ 1.  1.  1.  1.  1.  1.]\n",
        " [ 1.  1.  1.  1.  1.  1.]\n",
        " [ 1.  1.  1.  1.  1.  1.]\n",
        " [ 1.  1.  1.  1.  1.  1.]]\n",
        "(5, 6)\n"
       ]
      }
     ],
     "prompt_number": 27
    },
    {
     "cell_type": "markdown",
     "metadata": {},
     "source": [
      "To index an N-dimensional array, just separate the indices or slice specifications with commas."
     ]
    },
    {
     "cell_type": "code",
     "collapsed": false,
     "input": [
      "rand2d = rand(5, 4)\n",
      "print rand2d"
     ],
     "language": "python",
     "metadata": {},
     "outputs": [
      {
       "output_type": "stream",
       "stream": "stdout",
       "text": [
        "[[ 0.35225804  0.00497961  0.50585229  0.35544825]\n",
        " [ 0.9628066   0.58797462  0.19258711  0.81178682]\n",
        " [ 0.46722466  0.07971036  0.59978012  0.11576584]\n",
        " [ 0.21292492  0.35158342  0.57267964  0.18333993]\n",
        " [ 0.06452734  0.32202193  0.84510043  0.4542718 ]]\n"
       ]
      }
     ],
     "prompt_number": 28
    },
    {
     "cell_type": "code",
     "collapsed": false,
     "input": [
      "rand2d[:,2] # All rows, 3rd column"
     ],
     "language": "python",
     "metadata": {},
     "outputs": [
      {
       "output_type": "pyout",
       "prompt_number": 29,
       "text": [
        "array([ 0.50585229,  0.19258711,  0.59978012,  0.57267964,  0.84510043])"
       ]
      }
     ],
     "prompt_number": 29
    },
    {
     "cell_type": "markdown",
     "metadata": {},
     "source": [
      "For more, check out the [NumPy tutorial](http://www.scipy.org/Tentative_NumPy_Tutorial).\n",
      "\n",
      "*One final note:* NumPy is loaded into the IPython Notebook environment automatically (along with some other scientific and plotting commands), but if you're writing code in a `.py` file, you need to put the line\n",
      "\n",
      "`from pylab import *`\n",
      "\n",
      "somewhere near the top."
     ]
    },
    {
     "cell_type": "markdown",
     "metadata": {},
     "source": [
      "An example\n",
      "----\n",
      "\n",
      "Let's do a real example: calculating digits of $\\pi$. We'll use the Gregory-Leibniz series:\n",
      "\n",
      "$$\\pi = \\frac{4}{1} - \\frac{4}{3} + \\frac{4}{5} - \\frac{4}{7} + \\frac{4}{9} - \\dots$$\n",
      "\n",
      "We can see that it's equivalent to\n",
      "\n",
      "$$\\pi = 4 \\sum_{i=1, 3, 5, \\dots} i^{-1} (-1)^\\frac{i - 1}{2}$$\n",
      "\n",
      "First, let's get the range of $i$ right. Before writing this kind of code, I always like to check that I know what I'm getting."
     ]
    },
    {
     "cell_type": "code",
     "collapsed": false,
     "input": [
      "nterms = 3\n",
      "arange(1, nterms * 2, 2)"
     ],
     "language": "python",
     "metadata": {},
     "outputs": [
      {
       "output_type": "pyout",
       "prompt_number": 41,
       "text": [
        "array([1, 3, 5])"
       ]
      }
     ],
     "prompt_number": 41
    },
    {
     "cell_type": "markdown",
     "metadata": {},
     "source": [
      "Good. Now let's evaluate the expansion."
     ]
    },
    {
     "cell_type": "code",
     "collapsed": false,
     "input": [
      "def pi_approx(nterms):\n",
      "    i = arange(1, nterms*2, 2)\n",
      "    return 4 * sum(i**-1 * (-1)**((i - 1) / 2))"
     ],
     "language": "python",
     "metadata": {},
     "outputs": [],
     "prompt_number": 31
    },
    {
     "cell_type": "code",
     "collapsed": false,
     "input": [
      "pi_approx(10)"
     ],
     "language": "python",
     "metadata": {},
     "outputs": [
      {
       "output_type": "pyout",
       "prompt_number": 32,
       "text": [
        "4"
       ]
      }
     ],
     "prompt_number": 32
    },
    {
     "cell_type": "markdown",
     "metadata": {},
     "source": [
      "You've hit the worst Python quirk of them all --- the quotient of integers is always an integer! This is a carryover from C. For example:"
     ]
    },
    {
     "cell_type": "code",
     "collapsed": false,
     "input": [
      "1 / 2"
     ],
     "language": "python",
     "metadata": {},
     "outputs": [
      {
       "output_type": "pyout",
       "prompt_number": 33,
       "text": [
        "0"
       ]
      }
     ],
     "prompt_number": 33
    },
    {
     "cell_type": "markdown",
     "metadata": {},
     "source": [
      "The solution is to give Python a hint that you're working with floating-point numbers."
     ]
    },
    {
     "cell_type": "code",
     "collapsed": false,
     "input": [
      "def pi_approx(nterms):\n",
      "    i = arange(1.0, nterms*2, 2)\n",
      "    return 4 * sum(i**-1 * (-1)**((i - 1) / 2))"
     ],
     "language": "python",
     "metadata": {},
     "outputs": [],
     "prompt_number": 34
    },
    {
     "cell_type": "code",
     "collapsed": false,
     "input": [
      "pi_approx(10)"
     ],
     "language": "python",
     "metadata": {},
     "outputs": [
      {
       "output_type": "pyout",
       "prompt_number": 35,
       "text": [
        "3.0418396189294032"
       ]
      }
     ],
     "prompt_number": 35
    },
    {
     "cell_type": "markdown",
     "metadata": {},
     "source": [
      "Alternately, before performing any division, we could have run\n",
      "\n",
      "`from __future__ import division`\n",
      "\n",
      "reflecting the fact that this \"quirk\" is fixed in Python 3, but we have to live with it in order to use all the wonderful scientific software available for Python 2.7."
     ]
    },
    {
     "cell_type": "markdown",
     "metadata": {},
     "source": [
      "How fast does this method converge?"
     ]
    },
    {
     "cell_type": "code",
     "collapsed": false,
     "input": [
      "nterms_list = range(1, 1001)\n",
      "err_list = []\n",
      "for nterms in nterms_list:\n",
      "    err_list.append(abs(pi_approx(nterms) - pi))\n",
      "plot(nterms_list, err_list)\n",
      "xlabel('Number of terms in expansion')\n",
      "ylabel('Error')\n",
      "loglog()\n",
      "grid(True)"
     ],
     "language": "python",
     "metadata": {},
     "outputs": [
      {
       "output_type": "display_data",
       "png": "[encoded data removed]"
      }
     ],
     "prompt_number": 36
    },
    {
     "cell_type": "markdown",
     "metadata": {},
     "source": [
      "One more demonstration of NumPy's prowess:"
     ]
    },
    {
     "cell_type": "code",
     "collapsed": false,
     "input": [
      "%%timeit\n",
      "pi_app = pi_approx(1e7)"
     ],
     "language": "python",
     "metadata": {},
     "outputs": [
      {
       "output_type": "stream",
       "stream": "stdout",
       "text": [
        "1 loops, best of 3: 522 ms per loop\n"
       ]
      }
     ],
     "prompt_number": 37
    },
    {
     "cell_type": "code",
     "collapsed": false,
     "input": [
      "pi - pi_approx(1e7)"
     ],
     "language": "python",
     "metadata": {},
     "outputs": [
      {
       "output_type": "pyout",
       "prompt_number": 38,
       "text": [
        "1.0000000161269895e-07"
       ]
      }
     ],
     "prompt_number": 38
    },
    {
     "cell_type": "markdown",
     "metadata": {},
     "source": [
      "...as this expansion is notoriously inefficient."
     ]
    },
    {
     "cell_type": "code",
     "collapsed": false,
     "input": [],
     "language": "python",
     "metadata": {},
     "outputs": [],
     "prompt_number": 38
    }
   ],
   "metadata": {}
  }
 ]
}