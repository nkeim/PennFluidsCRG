{
 "metadata": {
  "name": "demo1"
 },
 "nbformat": 3,
 "nbformat_minor": 0,
 "worksheets": [
  {
   "cells": [
    {
     "cell_type": "code",
     "collapsed": false,
     "input": [
      "from pylab import *"
     ],
     "language": "python",
     "metadata": {},
     "outputs": [],
     "prompt_number": 10
    },
    {
     "cell_type": "markdown",
     "metadata": {},
     "source": [
      "Example IPython Notebook\n",
      "=====\n",
      "\n",
      "Cells can be `Python code`, plain text, or *formatted* __text__.\n",
      "\n",
      "- Lists\n",
      "- Links: [Python](http://www.python.org/)\n",
      "- Math: $\\beta \\sum_{n=1}^\\infty \\frac{1}{n^2}$\n",
      "\n",
      "For more on formatting, check out [the official Markdown introduction](http://daringfireball.net/projects/markdown/basics)."
     ]
    },
    {
     "cell_type": "code",
     "collapsed": false,
     "input": [
      "# This is a comment\n",
      "print 'This is code' # and another comment"
     ],
     "language": "python",
     "metadata": {},
     "outputs": [
      {
       "output_type": "stream",
       "stream": "stdout",
       "text": [
        "This is code\n"
       ]
      }
     ],
     "prompt_number": 5
    },
    {
     "cell_type": "code",
     "collapsed": false,
     "input": [
      "print 'Hello world'"
     ],
     "language": "python",
     "metadata": {},
     "outputs": [
      {
       "output_type": "stream",
       "stream": "stdout",
       "text": [
        "Hello world\n"
       ]
      }
     ],
     "prompt_number": 1
    },
    {
     "cell_type": "code",
     "collapsed": false,
     "input": [
      "print In[1]"
     ],
     "language": "python",
     "metadata": {},
     "outputs": [
      {
       "output_type": "stream",
       "stream": "stdout",
       "text": [
        "print 'Hello world'\n"
       ]
      }
     ],
     "prompt_number": 2
    },
    {
     "cell_type": "code",
     "collapsed": false,
     "input": [
      "a = 12\n",
      "arctan(a)"
     ],
     "language": "python",
     "metadata": {},
     "outputs": [
      {
       "output_type": "pyout",
       "prompt_number": 3,
       "text": [
        "1.4876550949064553"
       ]
      }
     ],
     "prompt_number": 3
    },
    {
     "cell_type": "code",
     "collapsed": false,
     "input": [
      "for i in range(3):\n",
      "    print 'n = ' + str(i)\n",
      "    print 'n =', i\n",
      "print 'Loop over'"
     ],
     "language": "python",
     "metadata": {},
     "outputs": [
      {
       "output_type": "stream",
       "stream": "stdout",
       "text": [
        "n = 0\n",
        "n = 0\n",
        "n = 1\n",
        "n = 1\n",
        "n = 2\n",
        "n = 2\n",
        "Loop over\n"
       ]
      }
     ],
     "prompt_number": 9
    },
    {
     "cell_type": "code",
     "collapsed": false,
     "input": [
      "range(3)"
     ],
     "language": "python",
     "metadata": {},
     "outputs": [
      {
       "output_type": "pyout",
       "prompt_number": 6,
       "text": [
        "[0, 1, 2]"
       ]
      }
     ],
     "prompt_number": 6
    },
    {
     "cell_type": "markdown",
     "metadata": {},
     "source": [
      "Built-in help"
     ]
    },
    {
     "cell_type": "code",
     "collapsed": false,
     "input": [
      "range?"
     ],
     "language": "python",
     "metadata": {},
     "outputs": [],
     "prompt_number": 13
    },
    {
     "cell_type": "code",
     "collapsed": false,
     "input": [
      "a?"
     ],
     "language": "python",
     "metadata": {},
     "outputs": [],
     "prompt_number": 14
    },
    {
     "cell_type": "markdown",
     "metadata": {},
     "source": [
      "Defining functions"
     ]
    },
    {
     "cell_type": "code",
     "collapsed": false,
     "input": [
      "def hi(n):\n",
      "    if n == 0:\n",
      "        return 'Hi!'\n",
      "    else:\n",
      "        return 'Hello world ' + str(n)\n",
      "for i in range(3):\n",
      "    print hi(i)"
     ],
     "language": "python",
     "metadata": {},
     "outputs": []
    },
    {
     "cell_type": "markdown",
     "metadata": {},
     "source": [
      "Graphics go right in the notebook! (We will cover plotting later.)"
     ]
    },
    {
     "cell_type": "code",
     "collapsed": false,
     "input": [
      "x = linspace(0, 2*pi, 200)\n",
      "plot(x, sin(x), )"
     ],
     "language": "python",
     "metadata": {},
     "outputs": [
      {
       "output_type": "pyout",
       "prompt_number": 17,
       "text": [
        "[<matplotlib.lines.Line2D at 0x108dd1110>]"
       ]
      },
      {
       "output_type": "display_data",
       "png": "[encoded data removed]"
      }
     ],
     "prompt_number": 17
    },
    {
     "cell_type": "code",
     "collapsed": false,
     "input": [
      "rand(10, 10)"
     ],
     "language": "python",
     "metadata": {},
     "outputs": [
      {
       "output_type": "pyout",
       "prompt_number": 16,
       "text": [
        "array([[  5.05502916e-01,   9.19755729e-01,   1.61428412e-01,\n",
        "          4.09674956e-02,   4.09626537e-01,   4.57707483e-01,\n",
        "          7.71871857e-01,   2.97704404e-01,   9.41242216e-01,\n",
        "          4.99983069e-01],\n",
        "       [  9.86732912e-01,   6.59947360e-01,   4.31875490e-01,\n",
        "          4.88231153e-01,   7.26427558e-01,   9.99300083e-01,\n",
        "          5.26801252e-01,   6.06062319e-01,   2.63934776e-01,\n",
        "          3.61820114e-01],\n",
        "       [  9.94662326e-01,   2.79500460e-01,   7.12769382e-01,\n",
        "          3.92139855e-01,   7.13800754e-01,   3.43748072e-01,\n",
        "          1.62424781e-01,   8.46575777e-01,   3.30208082e-01,\n",
        "          1.07607942e-01],\n",
        "       [  5.00490374e-01,   6.30199217e-01,   1.31534439e-01,\n",
        "          4.63494301e-02,   2.87552296e-01,   9.09378190e-01,\n",
        "          4.81825888e-01,   3.19942634e-01,   9.60091430e-01,\n",
        "          1.50378692e-01],\n",
        "       [  2.71646936e-01,   5.44626398e-01,   2.39125167e-02,\n",
        "          7.56784029e-01,   9.41235108e-01,   8.32707564e-01,\n",
        "          2.66832549e-01,   4.03505308e-01,   3.76737362e-01,\n",
        "          7.61229944e-02],\n",
        "       [  1.94496897e-01,   6.01403521e-04,   1.90977383e-01,\n",
        "          3.37183279e-01,   4.47407582e-02,   2.02638266e-03,\n",
        "          6.48899117e-01,   4.64735891e-01,   3.30820699e-01,\n",
        "          7.53522998e-01],\n",
        "       [  1.24936658e-01,   3.16353293e-01,   6.37051053e-01,\n",
        "          3.50508371e-01,   2.63455279e-02,   9.14058020e-01,\n",
        "          5.69991191e-01,   2.15039141e-01,   3.76456018e-01,\n",
        "          1.45949274e-01],\n",
        "       [  3.65010610e-01,   5.46855752e-01,   3.79937323e-01,\n",
        "          8.66329691e-01,   2.62440115e-01,   2.93051884e-01,\n",
        "          5.61445993e-01,   4.01520461e-02,   3.31070826e-01,\n",
        "          3.24516566e-01],\n",
        "       [  8.25721007e-01,   6.59015565e-01,   5.71899889e-01,\n",
        "          3.85825641e-01,   7.51729643e-01,   3.86754435e-01,\n",
        "          1.51993827e-01,   1.97929826e-02,   5.08189042e-01,\n",
        "          3.13215254e-01],\n",
        "       [  3.87296460e-01,   6.61943117e-02,   4.25838947e-01,\n",
        "          1.93198268e-01,   8.60511897e-01,   8.99972682e-01,\n",
        "          4.40137358e-01,   2.66661015e-01,   5.17764021e-01,\n",
        "          5.08213375e-01]])"
       ]
      }
     ],
     "prompt_number": 16
    },
    {
     "cell_type": "markdown",
     "metadata": {},
     "source": [
      "Introspection"
     ]
    },
    {
     "cell_type": "code",
     "collapsed": false,
     "input": [
      "whos"
     ],
     "language": "python",
     "metadata": {},
     "outputs": []
    },
    {
     "cell_type": "markdown",
     "metadata": {},
     "source": [
      "Lists: All-purpose sequences of values"
     ]
    },
    {
     "cell_type": "code",
     "collapsed": false,
     "input": [
      "lis = [0, 1, 2, 3] # Or lis = range(4)\n",
      "lis"
     ],
     "language": "python",
     "metadata": {},
     "outputs": []
    },
    {
     "cell_type": "code",
     "collapsed": false,
     "input": [
      "lis.append('banana')\n",
      "lis"
     ],
     "language": "python",
     "metadata": {},
     "outputs": []
    },
    {
     "cell_type": "code",
     "collapsed": false,
     "input": [
      "lis[0], lis[1], lis[4]"
     ],
     "language": "python",
     "metadata": {},
     "outputs": []
    },
    {
     "cell_type": "code",
     "collapsed": false,
     "input": [
      "for item in lis:\n",
      "    print item"
     ],
     "language": "python",
     "metadata": {},
     "outputs": []
    },
    {
     "cell_type": "code",
     "collapsed": false,
     "input": [
      "longlis = lis + ['a', 'b', 12]"
     ],
     "language": "python",
     "metadata": {},
     "outputs": []
    },
    {
     "cell_type": "code",
     "collapsed": false,
     "input": [
      "lis.reverse()"
     ],
     "language": "python",
     "metadata": {},
     "outputs": []
    },
    {
     "cell_type": "code",
     "collapsed": false,
     "input": [
      "lis"
     ],
     "language": "python",
     "metadata": {},
     "outputs": []
    },
    {
     "cell_type": "markdown",
     "metadata": {},
     "source": [
      "Flexible built-in types\n",
      "-----\n",
      "\n",
      "Dictionaries"
     ]
    },
    {
     "cell_type": "code",
     "collapsed": false,
     "input": [
      "d = {3: 'three', 'red': 'apple'}"
     ],
     "language": "python",
     "metadata": {},
     "outputs": []
    },
    {
     "cell_type": "code",
     "collapsed": false,
     "input": [
      "d[6] = 'six'\n",
      "d['red'] = 'lips'\n",
      "d"
     ],
     "language": "python",
     "metadata": {},
     "outputs": []
    },
    {
     "cell_type": "code",
     "collapsed": false,
     "input": [
      "for key in d:\n",
      "    print key, d[key]"
     ],
     "language": "python",
     "metadata": {},
     "outputs": []
    },
    {
     "cell_type": "markdown",
     "metadata": {},
     "source": [
      "\"Tuples\" form composite values"
     ]
    },
    {
     "cell_type": "code",
     "collapsed": false,
     "input": [
      "d[(3, 4)] = 'element indexed by x, y tuple'\n",
      "d"
     ],
     "language": "python",
     "metadata": {},
     "outputs": []
    },
    {
     "cell_type": "markdown",
     "metadata": {},
     "source": [
      "Sets"
     ]
    },
    {
     "cell_type": "code",
     "collapsed": false,
     "input": [
      "range0 = range(6)\n",
      "print range0\n",
      "range1 = range(2, 7)\n",
      "print range1\n",
      "print range0 + range1"
     ],
     "language": "python",
     "metadata": {},
     "outputs": []
    },
    {
     "cell_type": "code",
     "collapsed": false,
     "input": [
      "set(range0).union(set(range1))"
     ],
     "language": "python",
     "metadata": {},
     "outputs": []
    },
    {
     "cell_type": "code",
     "collapsed": false,
     "input": [],
     "language": "python",
     "metadata": {},
     "outputs": []
    }
   ],
   "metadata": {}
  }
 ]
}